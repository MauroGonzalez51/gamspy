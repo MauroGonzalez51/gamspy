{
 "cells": [
  {
   "cell_type": "code",
   "execution_count": 1,
   "metadata": {},
   "outputs": [],
   "source": [
    "from gamspy import Container, Set, Parameter, Variable, Equation, Model, Sum, Sense, Options\n",
    "import matplotlib.pyplot as plt\n",
    "from utils import visualize\n",
    "import sys"
   ]
  },
  {
   "cell_type": "markdown",
   "metadata": {},
   "source": [
    "Una empresa tiene dos factorías A y B. En ellas se fabrica un producto, a razón de 500 y 400 unidades por día respectivamente. El producto ha de ser distribuido posteriormente a tres centros I, II y III que requieren, respectivamente, 200, 300 y 400 unidades. Los costos de transportar cada unidad de producto desde cada factoría a cada uno de los centros de distribución se indican en la siguiente tabla:\n",
    "\n",
    "\n",
    "| Factoria   | I       | II      | III     | Fabricacion (Unidades) |\n",
    "| ---------- | ------- | ------- | ------- | ---------------------- |\n",
    "| A          | 50      | 60      | 10      | 500                    |\n",
    "| B          | 25      | 40      | 20      | 400                    |\n",
    "| Demanda    | 200     | 300     | 400     |                        |"
   ]
  },
  {
   "cell_type": "code",
   "execution_count": 2,
   "metadata": {},
   "outputs": [],
   "source": [
    "container = Container()"
   ]
  },
  {
   "cell_type": "code",
   "execution_count": 3,
   "metadata": {},
   "outputs": [
    {
     "data": {
      "text/plain": [
       "(Set(name='factories', domain=['*']), Set(name='clients', domain=['*']))"
      ]
     },
     "execution_count": 3,
     "metadata": {},
     "output_type": "execute_result"
    }
   ],
   "source": [
    "factories = Set(container=container, name='factories', records=['A', 'B'])\n",
    "clients = Set(container=container, name='clients', records=['I', 'II', 'III'])\n",
    "\n",
    "factories, clients"
   ]
  },
  {
   "cell_type": "code",
   "execution_count": 4,
   "metadata": {},
   "outputs": [
    {
     "data": {
      "text/plain": [
       "(Parameter(name='offer', domain=[Set(name='factories', domain=['*'])]),\n",
       " Parameter(name='demand', domain=[Set(name='clients', domain=['*'])]),\n",
       " Parameter(name='cost', domain=[Set(name='factories', domain=['*']), Set(name='clients', domain=['*'])]))"
      ]
     },
     "execution_count": 4,
     "metadata": {},
     "output_type": "execute_result"
    }
   ],
   "source": [
    "offer = Parameter(container=container, name='offer', domain=[\n",
    "                  factories], records=[['A', 500], ['B', 400]])\n",
    "\n",
    "demand = Parameter(container=container, name='demand', domain=[\n",
    "                   clients], records=[['I', 200], ['II', 300], ['III', 400]])\n",
    "\n",
    "cost = Parameter(container=container, name='cost', domain=[factories, clients], records=[\n",
    "    ['A', 'I', 50], ['A', 'II', 60], ['A', 'III', 10],\n",
    "    ['B', 'I', 25], ['B', 'II', 40], ['B', 'III', 20],\n",
    "])\n",
    "\n",
    "offer, demand, cost"
   ]
  },
  {
   "cell_type": "code",
   "execution_count": 5,
   "metadata": {},
   "outputs": [
    {
     "data": {
      "text/plain": [
       "Variable(name='x', domain=[Set(name='factories', domain=['*']), Set(name='clients', domain=['*'])], type='positive')"
      ]
     },
     "execution_count": 5,
     "metadata": {},
     "output_type": "execute_result"
    }
   ],
   "source": [
    "x = Variable(container=container, name='x', domain=[\n",
    "             factories, clients], type='Positive')\n",
    "\n",
    "x"
   ]
  },
  {
   "cell_type": "code",
   "execution_count": 7,
   "metadata": {},
   "outputs": [
    {
     "data": {
      "text/plain": [
       "(Equation(name='supply_equation', type='eq', domain=[Set(name='factories', domain=['*'])]),\n",
       " Equation(name='demand_equation', type='eq', domain=[Set(name='clients', domain=['*'])]),\n",
       " Sum(domain=[], expression=Expression(left=ImplicitParameter(parent=Parameter(name='cost', domain=[Set(name='factories', domain=['*']), Set(name='clients', domain=['*'])]), name='cost', domain=[Set(name='factories', domain=['*']), Set(name='clients', domain=['*'])], permutation=None), parent_scalar_domains=[]), data=*, right=ImplicitVariable(parent=Variable(name='x', domain=[Set(name='factories', domain=['*']), Set(name='clients', domain=['*'])], type='positive'), name='x', domain=[Set(name='factories', domain=['*']), Set(name='clients', domain=['*'])], permutation=None, parent_scalar_domains=[]))))"
      ]
     },
     "execution_count": 7,
     "metadata": {},
     "output_type": "execute_result"
    }
   ],
   "source": [
    "supply_equation = Equation(container=container, name='supply_equation', domain=factories)\n",
    "demand_equation = Equation(container=container, name='demand_equation', domain=clients)\n",
    "\n",
    "supply_equation[factories] = Sum(clients, x[factories, clients]) <= offer[factories]\n",
    "demand_equation[clients] = Sum(factories, x[factories, clients]) >= demand[clients]\n",
    "objective = Sum((factories, clients), cost[factories, clients] * x[factories, clients])\n",
    "\n",
    "supply_equation, demand_equation, objective"
   ]
  },
  {
   "cell_type": "code",
   "execution_count": 8,
   "metadata": {},
   "outputs": [],
   "source": [
    "transport = Model(container=container, name='transport', equations=container.getEquations(\n",
    "), problem='LP', sense=Sense.MIN, objective=objective)"
   ]
  },
  {
   "cell_type": "code",
   "execution_count": 9,
   "metadata": {},
   "outputs": [
    {
     "name": "stdout",
     "output_type": "stream",
     "text": [
      "--- Job _9d10e99e-90a1-4d2d-aaab-f0a7a9dfc796.gms Start 04/04/25 10:24:17 49.3.0 7de46a92 WEX-WEI x86 64bit/MS Windows\n",
      "--- Applying:\n",
      "    D:\\dev\\python\\gamspy\\.venv\\Lib\\site-packages\\gamspy_base\\gmsprmNT.txt\n",
      "--- GAMS Parameters defined\n",
      "    LP CPLEX\n",
      "    Input C:\\Users\\Aquaman\\AppData\\Local\\Temp\\tmp0d389m0t\\_9d10e99e-90a1-4d2d-aaab-f0a7a9dfc796.gms\n",
      "    Output C:\\Users\\Aquaman\\AppData\\Local\\Temp\\tmp0d389m0t\\_9d10e99e-90a1-4d2d-aaab-f0a7a9dfc796.lst\n",
      "    ScrDir C:\\Users\\Aquaman\\AppData\\Local\\Temp\\tmp0d389m0t\\tmp1soc76gj\\\n",
      "    SysDir D:\\dev\\python\\gamspy\\.venv\\Lib\\site-packages\\gamspy_base\\\n",
      "    LogOption 3\n",
      "    Trace C:\\Users\\Aquaman\\AppData\\Local\\Temp\\tmp0d389m0t\\_9d10e99e-90a1-4d2d-aaab-f0a7a9dfc796.txt\n",
      "    License D:\\dev\\python\\gamspy\\.venv\\Lib\\site-packages\\gamspy_base\\gamslice.txt\n",
      "    OptDir C:\\Users\\Aquaman\\AppData\\Local\\Temp\\tmp0d389m0t\\\n",
      "    LimRow 10\n",
      "    LimCol 10\n",
      "    TraceOpt 3\n",
      "    GDX C:\\Users\\Aquaman\\AppData\\Local\\Temp\\tmp0d389m0t\\_9d10e99e-90a1-4d2d-aaab-f0a7a9dfc796out.gdx\n",
      "    SolPrint 0\n",
      "    PreviousWork 1\n",
      "    gdxSymbols newOrChanged\n",
      "Licensee: GAMS Demo, for EULA and demo limitations see   G250131/0001CB-GEN\n",
      "          https://www.gams.com/latest/docs/UG%5FLicense.html         DC0000\n",
      "          D:\\dev\\python\\gamspy\\.venv\\Lib\\site-packages\\gamspy_base\\gamslice.txt\n",
      "          Demo license for demonstration and instructional purposes only\n",
      "System information: 6 physical cores and 16 Gb memory detected\n",
      "--- Starting compilation\n",
      "--- _9d10e99e-90a1-4d2d-aaab-f0a7a9dfc796.gms(68) 3 Mb\n",
      "--- Starting execution: elapsed 0:00:00.017\n",
      "--- Generating LP model transport\n",
      "--- _9d10e99e-90a1-4d2d-aaab-f0a7a9dfc796.gms(87) 4 Mb\n",
      "---   6 rows  7 columns  19 non-zeroes\n",
      "--- Range statistics (absolute non-zero finite values)\n",
      "--- RHS       [min, max] : [ 2.000E+02, 5.000E+02] - Zero values observed as well\n",
      "--- Bound     [min, max] : [        NA,        NA] - Zero values observed as well\n",
      "--- Matrix    [min, max] : [ 1.000E+00, 6.000E+01]\n",
      "--- Executing CPLEX (Solvelink=2): elapsed 0:00:00.021\n",
      "\n",
      "IBM ILOG CPLEX   49.3.0 7de46a92 Mar 18, 2025          WEI x86 64bit/MS Window\n",
      "\n",
      "*** This solver runs with a demo license. No commercial use.\n",
      "--- GMO setup time: 0.00s\n",
      "--- GMO memory 0.50 Mb (peak 0.50 Mb)\n",
      "--- Dictionary memory 0.00 Mb\n",
      "--- Cplex 22.1.2.0 link memory 0.00 Mb (peak 0.00 Mb)\n",
      "--- Starting Cplex\n",
      "\n",
      "Version identifier: 22.1.2.0 | 2024-11-25 | 0edbb82fd\n",
      "CPXPARAM_Advance                                 0\n",
      "CPXPARAM_Simplex_Display                         2\n",
      "CPXPARAM_MIP_Display                             4\n",
      "CPXPARAM_MIP_Pool_Capacity                       0\n",
      "CPXPARAM_MIP_Tolerances_AbsMIPGap                0\n",
      "Tried aggregator 1 time.\n",
      "LP Presolve eliminated 0 rows and 1 columns.\n",
      "Reduced LP has 5 rows, 6 columns, and 12 nonzeros.\n",
      "Presolve time = 0.00 sec. (0.00 ticks)\n",
      "\n",
      "Iteration      Dual Objective            In Variable           Out Variable\n",
      "     1            4000.000000               x(A,III)demand_equation(I slack\n",
      "     2           16000.000000                x(B,II)demand_equation(I slack\n",
      "     3           21000.000000                 x(B,I)demand_equation(I slack\n",
      "     4           23000.000000                x(A,II)supply_equation(B slack\n",
      "\n",
      "--- LP status (1): optimal.\n",
      "--- Cplex Time: 0.00sec (det. 0.01 ticks)\n",
      "\n",
      "\n",
      "Optimal solution found\n",
      "Objective:        23000.000000\n",
      "\n",
      "--- Reading solution for model transport\n",
      "--- Executing after solve: elapsed 0:00:00.062\n",
      "--- _9d10e99e-90a1-4d2d-aaab-f0a7a9dfc796.gms(149) 4 Mb\n",
      "--- GDX File C:\\Users\\Aquaman\\AppData\\Local\\Temp\\tmp0d389m0t\\_9d10e99e-90a1-4d2d-aaab-f0a7a9dfc796out.gdx\n",
      "*** Status: Normal completion\n",
      "--- Job _9d10e99e-90a1-4d2d-aaab-f0a7a9dfc796.gms Stop 04/04/25 10:24:17 elapsed 0:00:00.072\n"
     ]
    },
    {
     "data": {
      "text/html": [
       "<div>\n",
       "<style scoped>\n",
       "    .dataframe tbody tr th:only-of-type {\n",
       "        vertical-align: middle;\n",
       "    }\n",
       "\n",
       "    .dataframe tbody tr th {\n",
       "        vertical-align: top;\n",
       "    }\n",
       "\n",
       "    .dataframe thead th {\n",
       "        text-align: right;\n",
       "    }\n",
       "</style>\n",
       "<table border=\"1\" class=\"dataframe\">\n",
       "  <thead>\n",
       "    <tr style=\"text-align: right;\">\n",
       "      <th></th>\n",
       "      <th>Solver Status</th>\n",
       "      <th>Model Status</th>\n",
       "      <th>Objective</th>\n",
       "      <th>Num of Equations</th>\n",
       "      <th>Num of Variables</th>\n",
       "      <th>Model Type</th>\n",
       "      <th>Solver</th>\n",
       "      <th>Solver Time</th>\n",
       "    </tr>\n",
       "  </thead>\n",
       "  <tbody>\n",
       "    <tr>\n",
       "      <th>0</th>\n",
       "      <td>Normal</td>\n",
       "      <td>OptimalGlobal</td>\n",
       "      <td>23000</td>\n",
       "      <td>6</td>\n",
       "      <td>7</td>\n",
       "      <td>LP</td>\n",
       "      <td>CPLEX</td>\n",
       "      <td>0</td>\n",
       "    </tr>\n",
       "  </tbody>\n",
       "</table>\n",
       "</div>"
      ],
      "text/plain": [
       "  Solver Status   Model Status Objective Num of Equations Num of Variables  \\\n",
       "0        Normal  OptimalGlobal     23000                6                7   \n",
       "\n",
       "  Model Type Solver Solver Time  \n",
       "0         LP  CPLEX           0  "
      ]
     },
     "execution_count": 9,
     "metadata": {},
     "output_type": "execute_result"
    }
   ],
   "source": [
    "transport.solve(output=sys.stdout, options=Options(equation_listing_limit=10, variable_listing_limit=10))"
   ]
  },
  {
   "cell_type": "code",
   "execution_count": 11,
   "metadata": {},
   "outputs": [
    {
     "data": {
      "text/html": [
       "<div>\n",
       "<style scoped>\n",
       "    .dataframe tbody tr th:only-of-type {\n",
       "        vertical-align: middle;\n",
       "    }\n",
       "\n",
       "    .dataframe tbody tr th {\n",
       "        vertical-align: top;\n",
       "    }\n",
       "\n",
       "    .dataframe thead th {\n",
       "        text-align: right;\n",
       "    }\n",
       "</style>\n",
       "<table border=\"1\" class=\"dataframe\">\n",
       "  <thead>\n",
       "    <tr style=\"text-align: right;\">\n",
       "      <th>clients</th>\n",
       "      <th>I</th>\n",
       "      <th>II</th>\n",
       "      <th>III</th>\n",
       "    </tr>\n",
       "    <tr>\n",
       "      <th>factories</th>\n",
       "      <th></th>\n",
       "      <th></th>\n",
       "      <th></th>\n",
       "    </tr>\n",
       "  </thead>\n",
       "  <tbody>\n",
       "    <tr>\n",
       "      <th>A</th>\n",
       "      <td>0.0</td>\n",
       "      <td>100.0</td>\n",
       "      <td>400.0</td>\n",
       "    </tr>\n",
       "    <tr>\n",
       "      <th>B</th>\n",
       "      <td>200.0</td>\n",
       "      <td>200.0</td>\n",
       "      <td>0.0</td>\n",
       "    </tr>\n",
       "  </tbody>\n",
       "</table>\n",
       "</div>"
      ],
      "text/plain": [
       "clients        I     II    III\n",
       "factories                     \n",
       "A            0.0  100.0  400.0\n",
       "B          200.0  200.0    0.0"
      ]
     },
     "execution_count": 11,
     "metadata": {},
     "output_type": "execute_result"
    }
   ],
   "source": [
    "x.records.pivot(index='factories', columns='clients', values='level')"
   ]
  },
  {
   "cell_type": "code",
   "execution_count": null,
   "metadata": {},
   "outputs": [
    {
     "data": {
      "image/png": "[encoded data removed]",
      "text/plain": [
       "<Figure size 800x800 with 1 Axes>"
      ]
     },
     "metadata": {},
     "output_type": "display_data"
    }
   ],
   "source": [
    "fig, ax = visualize(data=x.records, index='factories',\n",
    "                    columns='clients', values='level', figsize=(8, 8))\n",
    "plt.show()"
   ]
  }
 ],
 "metadata": {
  "kernelspec": {
   "display_name": ".venv",
   "language": "python",
   "name": "python3"
  },
  "language_info": {
   "codemirror_mode": {
    "name": "ipython",
    "version": 3
   },
   "file_extension": ".py",
   "mimetype": "text/x-python",
   "name": "python",
   "nbconvert_exporter": "python",
   "pygments_lexer": "ipython3",
   "version": "3.12.4"
  }
 },
 "nbformat": 4,
 "nbformat_minor": 2
}
