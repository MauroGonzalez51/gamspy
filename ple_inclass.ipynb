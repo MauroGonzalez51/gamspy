{
 "cells": [
  {
   "cell_type": "code",
   "execution_count": null,
   "metadata": {},
   "outputs": [],
   "source": [
    "from gamspy import Container, Set, Parameter, Variable, Equation, Model, Sense, Options, Problem, Sum\n",
    "import sys"
   ]
  },
  {
   "cell_type": "markdown",
   "metadata": {},
   "source": [
    "### Problema entero:\n",
    "\n",
    "$\\max z = 80x_{1} + 45x_{2}$\n",
    "\n",
    "sujeto a:\n",
    "- $x_{1} + x_{2} \\leq 7$\n",
    "- $12x_{1} + 5x_{2} \\leq 60$\n",
    "- $x_{1}, x_{2} \\geq 0$ y enteras"
   ]
  },
  {
   "cell_type": "code",
   "execution_count": 2,
   "metadata": {},
   "outputs": [],
   "source": [
    "container = Container()"
   ]
  },
  {
   "cell_type": "code",
   "execution_count": 3,
   "metadata": {},
   "outputs": [
    {
     "data": {
      "text/plain": [
       "Set(name='index', domain=['*'])"
      ]
     },
     "execution_count": 3,
     "metadata": {},
     "output_type": "execute_result"
    }
   ],
   "source": [
    "index = Set(container=container, name='index', records=['x1', 'x2'])\n",
    "index"
   ]
  },
  {
   "cell_type": "code",
   "execution_count": 4,
   "metadata": {},
   "outputs": [],
   "source": [
    "# Coeficientes de Z\n",
    "c = Parameter(container=container, name='c', domain=[\n",
    "              index], records=[['x1', 80], ['x2', 45]])\n",
    "\n",
    "# Coeficientes de Restriccion [1]\n",
    "a = Parameter(container=container, name='a', domain=[\n",
    "    index], records=[['x1', 1], ['x2', 1]])\n",
    "\n",
    "# Coeficientes de Restriccion [2]\n",
    "b = Parameter(container=container, name='b', domain=[\n",
    "    index], records=[['x1', 12], ['x2', 5]])"
   ]
  },
  {
   "cell_type": "code",
   "execution_count": 5,
   "metadata": {},
   "outputs": [
    {
     "data": {
      "text/plain": [
       "Variable(name='x', domain=[Set(name='index', domain=['*'])], type='integer')"
      ]
     },
     "execution_count": 5,
     "metadata": {},
     "output_type": "execute_result"
    }
   ],
   "source": [
    "x = Variable(container=container, name='x', domain=[index], type='Integer')\n",
    "x"
   ]
  },
  {
   "cell_type": "code",
   "execution_count": 7,
   "metadata": {},
   "outputs": [
    {
     "data": {
      "text/plain": [
       "(Equation(name='r1', type='eq', domain=[]),\n",
       " Equation(name='r2', type='eq', domain=[]),\n",
       " Sum(domain=[], expression=Expression(left=ImplicitParameter(parent=Parameter(name='c', domain=[Set(name='index', domain=['*'])]), name='c', domain=[Set(name='index', domain=['*'])], permutation=None), parent_scalar_domains=[]), data=*, right=ImplicitVariable(parent=Variable(name='x', domain=[Set(name='index', domain=['*'])], type='integer'), name='x', domain=[Set(name='index', domain=['*'])], permutation=None, parent_scalar_domains=[]))))"
      ]
     },
     "execution_count": 7,
     "metadata": {},
     "output_type": "execute_result"
    }
   ],
   "source": [
    "r1 = Equation(container=container, name='r1')\n",
    "r1[...] = Sum(index, a[index] * x[index]) <= 7\n",
    "\n",
    "r2 = Equation(container=container, name='r2')\n",
    "r2[...] = Sum(index, b[index] * x[index]) <= 60\n",
    "\n",
    "objective = Sum(index, c[index] * x[index])\n",
    "\n",
    "r1, r2, objective"
   ]
  },
  {
   "cell_type": "code",
   "execution_count": null,
   "metadata": {},
   "outputs": [],
   "source": [
    "model = Model(\n",
    "    container=container, \n",
    "    name='problem',\n",
    "    equations=container.getEquations(),\n",
    "    problem=Problem.MIP,\n",
    "    sense=Sense.MAX,\n",
    "    objective=objective\n",
    ")"
   ]
  },
  {
   "cell_type": "code",
   "execution_count": 17,
   "metadata": {},
   "outputs": [
    {
     "name": "stdout",
     "output_type": "stream",
     "text": [
      "--- Job _00751e4d-fb1e-4ca6-a716-1bedb47a3758.gms Start 04/08/25 16:16:39 49.3.0 7de46a92 LEX-LEG x86 64bit/Linux\n",
      "--- Applying:\n",
      "    /home/arch/dev/python/gamspy/.venv/lib/python3.13/site-packages/gamspy_base/gmsprmun.txt\n",
      "--- GAMS Parameters defined\n",
      "    MIP CPLEX\n",
      "    Input /tmp/tmprok5lw0c/_00751e4d-fb1e-4ca6-a716-1bedb47a3758.gms\n",
      "    Output /tmp/tmprok5lw0c/_00751e4d-fb1e-4ca6-a716-1bedb47a3758.lst\n",
      "    ScrDir /tmp/tmprok5lw0c/tmpmtmm6gv3/\n",
      "    SysDir /home/arch/dev/python/gamspy/.venv/lib/python3.13/site-packages/gamspy_base/\n",
      "    LogOption 3\n",
      "    Trace /tmp/tmprok5lw0c/_00751e4d-fb1e-4ca6-a716-1bedb47a3758.txt\n",
      "    License /home/arch/dev/python/gamspy/.venv/lib/python3.13/site-packages/gamspy_base/gamslice.txt\n",
      "    OptDir /tmp/tmprok5lw0c/\n",
      "    LimRow 10\n",
      "    LimCol 10\n",
      "    TraceOpt 3\n",
      "    GDX /tmp/tmprok5lw0c/_00751e4d-fb1e-4ca6-a716-1bedb47a3758out.gdx\n",
      "    SolPrint 0\n",
      "    PreviousWork 1\n",
      "    gdxSymbols newOrChanged\n",
      "Licensee: GAMS Demo, for EULA and demo limitations see   G250131/0001CB-GEN\n",
      "          https://www.gams.com/latest/docs/UG%5FLicense.html         DC0000\n",
      "          /home/arch/dev/python/gamspy/.venv/lib/python3.13/site-packages/gamspy_base/gamslice.txt\n",
      "          Demo license for demonstration and instructional purposes only\n",
      "System information: 6 physical cores and 15 Gb memory detected\n",
      "--- Starting compilation\n",
      "--- _00751e4d-fb1e-4ca6-a716-1bedb47a3758.gms(1) 4 Mb\n",
      "--- _00751e4d-fb1e-4ca6-a716-1bedb47a3758.gms(68) 4 Mb\n",
      "--- Starting execution: elapsed 0:00:00.000\n",
      "--- Generating MIP model problem\n",
      "--- _00751e4d-fb1e-4ca6-a716-1bedb47a3758.gms(314) 4 Mb\n",
      "---   3 rows  3 columns  7 non-zeroes\n",
      "---   2 discrete-columns\n",
      "--- Range statistics (absolute non-zero finite values)\n",
      "--- RHS       [min, max] : [ 7.000E+00, 6.000E+01] - Zero values observed as well\n",
      "--- Bound     [min, max] : [        NA,        NA] - Zero values observed as well\n",
      "--- Matrix    [min, max] : [ 1.000E+00, 8.000E+01]\n",
      "--- Executing CPLEX (Solvelink=2): elapsed 0:00:00.001\n",
      "\n",
      "IBM ILOG CPLEX   49.3.0 7de46a92 Mar 18, 2025          LEG x86 64bit/Linux    \n",
      "\n",
      "*** This solver runs with a demo license. No commercial use.\n",
      "--- GMO setup time: 0.00s\n",
      "--- GMO memory 0.50 Mb (peak 0.50 Mb)\n",
      "--- Dictionary memory 0.00 Mb\n",
      "--- Cplex 22.1.2.0 link memory 0.00 Mb (peak 0.00 Mb)\n",
      "--- Starting Cplex\n",
      "\n",
      "Version identifier: 22.1.2.0 | 2024-11-26 | 0edbb82fd\n",
      "CPXPARAM_Advance                                 2\n",
      "CPXPARAM_Simplex_Display                         2\n",
      "CPXPARAM_MIP_Display                             4\n",
      "CPXPARAM_MIP_Pool_Capacity                       0\n",
      "CPXPARAM_MIP_Tolerances_AbsMIPGap                0\n",
      "Generic callback                                 0x50\n",
      "Found incumbent of value 0.000000 after 0.00 sec. (0.00 ticks)\n",
      "Tried aggregator 1 time.\n",
      "MIP Presolve eliminated 0 rows and 1 columns.\n",
      "Reduced MIP has 2 rows, 2 columns, and 4 nonzeros.\n",
      "Reduced MIP has 0 binaries, 2 generals, 0 SOSs, and 0 indicators.\n",
      "Presolve time = 0.00 sec. (0.00 ticks)\n",
      "Tried aggregator 1 time.\n",
      "Reduced MIP has 2 rows, 2 columns, and 4 nonzeros.\n",
      "Reduced MIP has 0 binaries, 2 generals, 0 SOSs, and 0 indicators.\n",
      "Presolve time = 0.00 sec. (0.00 ticks)\n",
      "MIP emphasis: balance optimality and feasibility.\n",
      "MIP search method: dynamic search.\n",
      "Parallel mode: deterministic, using up to 12 threads.\n",
      "Parallel mode: deterministic, using up to 2 threads for parallel tasks at root LP.\n",
      "Tried aggregator 1 time.\n",
      "No LP presolve or aggregator reductions.\n",
      "Presolve time = 0.00 sec. (0.00 ticks)\n",
      "\n",
      "Iteration      Dual Objective            In Variable           Out Variable\n",
      "     1             490.000000                  x(x2)               r1 slack\n",
      "     2             440.000000                  x(x1)               r2 slack\n",
      "Root relaxation solution time = 0.00 sec. (0.00 ticks)\n",
      "\n",
      "        Nodes                                         Cuts/\n",
      "   Node  Left     Objective  IInf  Best Integer    Best Bound    ItCnt     Gap\n",
      "\n",
      "*     0+    0                            0.0000      715.0000              --- \n",
      "Found incumbent of value 0.000000 after 0.00 sec. (0.01 ticks)\n",
      "*     0+    0                          420.0000      715.0000            70.24%\n",
      "Found incumbent of value 420.000000 after 0.00 sec. (0.01 ticks)\n",
      "      0     0      440.0000     2      420.0000      440.0000        2    4.76%\n",
      "      0     0        cutoff            420.0000                      2     --- \n",
      "Elapsed time = 0.07 sec. (0.02 ticks, tree = 0.01 MB)\n",
      "\n",
      "Root node processing (before b&c):\n",
      "  Real time             =    0.07 sec. (0.02 ticks)\n",
      "Parallel b&c, 12 threads:\n",
      "  Real time             =    0.00 sec. (0.00 ticks)\n",
      "  Sync time (average)   =    0.00 sec.\n",
      "  Wait time (average)   =    0.00 sec.\n",
      "                          ------------\n",
      "Total (root+branch&cut) =    0.07 sec. (0.02 ticks)\n",
      "\n",
      "--- MIP status (101): integer optimal solution.\n",
      "--- Cplex Time: 0.07sec (det. 0.02 ticks)\n",
      "\n",
      "--- Returning a primal only solution to GAMS (marginals all set to NA).\n",
      "--- Fixing integer variables and solving final LP...\n",
      "\n",
      "Version identifier: 22.1.2.0 | 2024-11-26 | 0edbb82fd\n",
      "CPXPARAM_Advance                                 2\n",
      "CPXPARAM_Simplex_Display                         2\n",
      "CPXPARAM_MIP_Display                             4\n",
      "CPXPARAM_MIP_Pool_Capacity                       0\n",
      "CPXPARAM_MIP_Tolerances_AbsMIPGap                0\n",
      "Tried aggregator 1 time.\n",
      "LP Presolve eliminated 2 rows and 3 columns.\n",
      "All rows and columns eliminated.\n",
      "Presolve time = 0.00 sec. (0.00 ticks)\n",
      "\n",
      "--- Fixed MIP status (1): optimal.\n",
      "--- Cplex Time: 0.00sec (det. 0.00 ticks)\n",
      "\n",
      "\n",
      "Proven optimal solution\n",
      "MIP Solution:          420.000000    (2 iterations, 0 nodes)\n",
      "Final Solve:           420.000000    (0 iterations)\n",
      "\n",
      "Best possible:         420.000000\n",
      "Absolute gap:            0.000000\n",
      "Relative gap:            0.000000\n",
      "\n",
      "--- Reading solution for model problem\n",
      "--- Executing after solve: elapsed 0:00:00.084\n",
      "--- _00751e4d-fb1e-4ca6-a716-1bedb47a3758.gms(376) 4 Mb\n",
      "--- GDX File /tmp/tmprok5lw0c/_00751e4d-fb1e-4ca6-a716-1bedb47a3758out.gdx\n",
      "*** Status: Normal completion\n",
      "--- Job _00751e4d-fb1e-4ca6-a716-1bedb47a3758.gms Stop 04/08/25 16:16:39 elapsed 0:00:00.084\n"
     ]
    },
    {
     "data": {
      "text/html": [
       "<div>\n",
       "<style scoped>\n",
       "    .dataframe tbody tr th:only-of-type {\n",
       "        vertical-align: middle;\n",
       "    }\n",
       "\n",
       "    .dataframe tbody tr th {\n",
       "        vertical-align: top;\n",
       "    }\n",
       "\n",
       "    .dataframe thead th {\n",
       "        text-align: right;\n",
       "    }\n",
       "</style>\n",
       "<table border=\"1\" class=\"dataframe\">\n",
       "  <thead>\n",
       "    <tr style=\"text-align: right;\">\n",
       "      <th></th>\n",
       "      <th>Solver Status</th>\n",
       "      <th>Model Status</th>\n",
       "      <th>Objective</th>\n",
       "      <th>Num of Equations</th>\n",
       "      <th>Num of Variables</th>\n",
       "      <th>Model Type</th>\n",
       "      <th>Solver</th>\n",
       "      <th>Solver Time</th>\n",
       "    </tr>\n",
       "  </thead>\n",
       "  <tbody>\n",
       "    <tr>\n",
       "      <th>0</th>\n",
       "      <td>Normal</td>\n",
       "      <td>OptimalGlobal</td>\n",
       "      <td>420</td>\n",
       "      <td>3</td>\n",
       "      <td>3</td>\n",
       "      <td>MIP</td>\n",
       "      <td>CPLEX</td>\n",
       "      <td>0.074</td>\n",
       "    </tr>\n",
       "  </tbody>\n",
       "</table>\n",
       "</div>"
      ],
      "text/plain": [
       "  Solver Status   Model Status Objective Num of Equations Num of Variables  \\\n",
       "0        Normal  OptimalGlobal       420                3                3   \n",
       "\n",
       "  Model Type Solver Solver Time  \n",
       "0        MIP  CPLEX       0.074  "
      ]
     },
     "execution_count": 17,
     "metadata": {},
     "output_type": "execute_result"
    }
   ],
   "source": [
    "model.solve(output=sys.stdout, options=Options(equation_listing_limit=10, variable_listing_limit=10))"
   ]
  },
  {
   "cell_type": "code",
   "execution_count": 18,
   "metadata": {},
   "outputs": [
    {
     "data": {
      "text/html": [
       "<div>\n",
       "<style scoped>\n",
       "    .dataframe tbody tr th:only-of-type {\n",
       "        vertical-align: middle;\n",
       "    }\n",
       "\n",
       "    .dataframe tbody tr th {\n",
       "        vertical-align: top;\n",
       "    }\n",
       "\n",
       "    .dataframe thead th {\n",
       "        text-align: right;\n",
       "    }\n",
       "</style>\n",
       "<table border=\"1\" class=\"dataframe\">\n",
       "  <thead>\n",
       "    <tr style=\"text-align: right;\">\n",
       "      <th></th>\n",
       "      <th>index</th>\n",
       "      <th>level</th>\n",
       "      <th>marginal</th>\n",
       "      <th>lower</th>\n",
       "      <th>upper</th>\n",
       "      <th>scale</th>\n",
       "    </tr>\n",
       "  </thead>\n",
       "  <tbody>\n",
       "    <tr>\n",
       "      <th>0</th>\n",
       "      <td>x1</td>\n",
       "      <td>3.0</td>\n",
       "      <td>80.0</td>\n",
       "      <td>0.0</td>\n",
       "      <td>inf</td>\n",
       "      <td>1.0</td>\n",
       "    </tr>\n",
       "    <tr>\n",
       "      <th>1</th>\n",
       "      <td>x2</td>\n",
       "      <td>4.0</td>\n",
       "      <td>45.0</td>\n",
       "      <td>0.0</td>\n",
       "      <td>inf</td>\n",
       "      <td>1.0</td>\n",
       "    </tr>\n",
       "  </tbody>\n",
       "</table>\n",
       "</div>"
      ],
      "text/plain": [
       "  index  level  marginal  lower  upper  scale\n",
       "0    x1    3.0      80.0    0.0    inf    1.0\n",
       "1    x2    4.0      45.0    0.0    inf    1.0"
      ]
     },
     "execution_count": 18,
     "metadata": {},
     "output_type": "execute_result"
    }
   ],
   "source": [
    "x.records"
   ]
  }
 ],
 "metadata": {
  "kernelspec": {
   "display_name": ".venv",
   "language": "python",
   "name": "python3"
  },
  "language_info": {
   "codemirror_mode": {
    "name": "ipython",
    "version": 3
   },
   "file_extension": ".py",
   "mimetype": "text/x-python",
   "name": "python",
   "nbconvert_exporter": "python",
   "pygments_lexer": "ipython3",
   "version": "3.13.2"
  }
 },
 "nbformat": 4,
 "nbformat_minor": 2
}
