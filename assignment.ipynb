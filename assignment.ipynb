{
 "cells": [
  {
   "cell_type": "markdown",
   "metadata": {},
   "source": [
    "# Problema de asignación\n",
    "\n",
    "En los problemas de asignación se busca resolver minimizar la siguiente función objetivo:\n",
    "$$F.O.: \\sum_{i}^{i=n}\\sum_{j}^{j=m} c_{i,j}x_{i,j}$$\n",
    "\n",
    "Y las restricciones son las siguientes:\n",
    "- $\\sum_{j=1}^{j=m}x_{i,j} = 1$ para cada $j$. La suma de cada fila debe ser igual a 1\n",
    "- $\\sum_{i=1}^{i=n}x_{i,j} = 1$ para cada $i$. La suma de cada columna debe ser igual a 1\n",
    "- $\\sum_{i=1}^{i=n} \\sum_{j=1}^{j=m} x_{i,j} \\geq 0$. Todas las variables deben ser positivas"
   ]
  },
  {
   "cell_type": "code",
   "execution_count": 56,
   "metadata": {},
   "outputs": [],
   "source": [
    "from gamspy import Container, Set, Parameter, Variable, Equation, Model, Sum, Sense"
   ]
  },
  {
   "cell_type": "markdown",
   "metadata": {},
   "source": [
    "## Enunciado 1\n",
    "\n",
    "Problema dado por el profesor"
   ]
  },
  {
   "cell_type": "markdown",
   "metadata": {},
   "source": [
    "Enunciado:\n",
    "\n",
    "> La Junta Administradora Local (JAL) de la comuna X tiene tres proyectos de pavimentación de vías. La junta tiene el problema de determinar que contratista llevara a cabo los proyectos. Se abrió licitación para los proyectos, entre contratistas locales, tres presentaron diligenciados sus pliegos. El costo de cada proyecto según la propuesta de cada contratista se presenta en la siguiente tabla (en millones de u.m.).\n",
    "\n",
    "|               | Proyecto 1 | Proyecto 2 | Proyecto 3 |\n",
    "| ------------- | ---------- | ---------- | ---------- |\n",
    "| Contratista 1 |    280     |    320     |    360     |\n",
    "| Contratista 2 |    360     |    280     |    300     |\n",
    "| Contratista 3 |    380     |    340     |    400     |\n",
    "\n",
    "Resultado esperado:\n",
    "|               |   Proyecto 1   |   Proyecto 2   |   Proyecto 3   |\n",
    "| ------------- | -------------- | -------------- | -------------- |\n",
    "| Contratista 1 |     **0**      |       40       |       60       |\n",
    "| Contratista 2 |      80        |       0        |     **0**      |\n",
    "| Contratista 3 |      40        |     **0**      |       40       |\n",
    "\n",
    "Aquellos **0** que están en negrita, son los de la solución"
   ]
  },
  {
   "cell_type": "code",
   "execution_count": 57,
   "metadata": {},
   "outputs": [],
   "source": [
    "container = Container()"
   ]
  },
  {
   "cell_type": "code",
   "execution_count": 58,
   "metadata": {},
   "outputs": [
    {
     "data": {
      "text/plain": [
       "(Set(name='contractors', domain=['*']), Set(name='projects', domain=['*']))"
      ]
     },
     "execution_count": 58,
     "metadata": {},
     "output_type": "execute_result"
    }
   ],
   "source": [
    "contractors = Set(container=container, name=\"contractors\", records=[\"C1\", \"C2\", \"C3\"])\n",
    "projects = Set(container=container, name=\"projects\", records=[\"P1\", \"P2\", \"P3\"])\n",
    "\n",
    "contractors, projects"
   ]
  },
  {
   "cell_type": "code",
   "execution_count": 59,
   "metadata": {},
   "outputs": [
    {
     "data": {
      "text/plain": [
       "Parameter(name='project_cost', domain=[Set(name='contractors', domain=['*']), Set(name='projects', domain=['*'])])"
      ]
     },
     "execution_count": 59,
     "metadata": {},
     "output_type": "execute_result"
    }
   ],
   "source": [
    "project_cost = Parameter(\n",
    "    container=container,\n",
    "    name=\"project_cost\",\n",
    "    domain=[contractors, projects],\n",
    "    records=[\n",
    "        [\"C1\", \"P1\", 280], [\"C1\", \"P2\", 320], [\"C1\", \"P3\", 360],\n",
    "        [\"C2\", \"P1\", 360], [\"C2\", \"P2\", 280], [\"C2\", \"P3\", 300],\n",
    "        [\"C3\", \"P1\", 380], [\"C3\", \"P2\", 340], [\"C3\", \"P3\", 400]\n",
    "    ]\n",
    ")\n",
    "\n",
    "project_cost"
   ]
  },
  {
   "cell_type": "code",
   "execution_count": 60,
   "metadata": {},
   "outputs": [
    {
     "data": {
      "text/plain": [
       "Variable(name='x', domain=[Set(name='contractors', domain=['*']), Set(name='projects', domain=['*'])], type='positive')"
      ]
     },
     "execution_count": 60,
     "metadata": {},
     "output_type": "execute_result"
    }
   ],
   "source": [
    "x = Variable(\n",
    "    container=container,\n",
    "    name=\"x\",\n",
    "    domain=[contractors, projects],\n",
    "    type=\"Positive\"\n",
    ")\n",
    "\n",
    "x"
   ]
  },
  {
   "cell_type": "code",
   "execution_count": 61,
   "metadata": {},
   "outputs": [
    {
     "data": {
      "text/plain": [
       "(Equation(name='contractor_constraint', type='eq', domain=[Set(name='contractors', domain=['*'])]),\n",
       " Equation(name='project_constraint', type='eq', domain=[Set(name='projects', domain=['*'])]),\n",
       " Sum(domain=[], expression=Expression(left=ImplicitParameter(parent=Parameter(name='project_cost', domain=[Set(name='contractors', domain=['*']), Set(name='projects', domain=['*'])]), name='project_cost', domain=[Set(name='contractors', domain=['*']), Set(name='projects', domain=['*'])], permutation=None), parent_scalar_domains=[]), data=*, right=ImplicitVariable(parent=Variable(name='x', domain=[Set(name='contractors', domain=['*']), Set(name='projects', domain=['*'])], type='positive'), name='x', domain=[Set(name='contractors', domain=['*']), Set(name='projects', domain=['*'])], permutation=None, parent_scalar_domains=[]))))"
      ]
     },
     "execution_count": 61,
     "metadata": {},
     "output_type": "execute_result"
    }
   ],
   "source": [
    "contractor_constraint = Equation(container=container, name=\"contractor_constraint\", domain=contractors)\n",
    "project_constraint = Equation(container=container, name=\"project_constraint\", domain=projects)\n",
    "\n",
    "contractor_constraint[contractors] = Sum(projects, x[contractors, projects]) == 1\n",
    "project_constraint[projects] = Sum(contractors, x[contractors, projects]) == 1\n",
    "objective = Sum((contractors, projects), project_cost[contractors, projects] * x[contractors, projects])\n",
    "\n",
    "contractor_constraint, project_constraint, objective"
   ]
  },
  {
   "cell_type": "code",
   "execution_count": 62,
   "metadata": {},
   "outputs": [
    {
     "data": {
      "text/plain": [
       "Model(name='assignment', problem='LP', equations=[Equation(name='contractor_constraint', type='eq', domain=[Set(name='contractors', domain=['*'])]), Equation(name='project_constraint', type='eq', domain=[Set(name='projects', domain=['*'])]), Equation(name='assignment_objective', type='eq', domain=[])], sense='MIN', objective=Variable(name='assignment_objective_variable', domain=[], type='free'), matches=None, limited_variables=None"
      ]
     },
     "execution_count": 62,
     "metadata": {},
     "output_type": "execute_result"
    }
   ],
   "source": [
    "assignment = Model(\n",
    "    container=container,\n",
    "    name=\"assignment\",\n",
    "    objective=objective,\n",
    "    sense=Sense.MIN,\n",
    "    equations=container.getEquations(),\n",
    "    problem=\"LP\"\n",
    ")\n",
    "\n",
    "assignment"
   ]
  },
  {
   "cell_type": "code",
   "execution_count": 63,
   "metadata": {},
   "outputs": [
    {
     "data": {
      "text/plain": [
       "[Equation(name='contractor_constraint', type='eq', domain=[Set(name='contractors', domain=['*'])]),\n",
       " Equation(name='project_constraint', type='eq', domain=[Set(name='projects', domain=['*'])]),\n",
       " Equation(name='assignment_objective', type='eq', domain=[])]"
      ]
     },
     "execution_count": 63,
     "metadata": {},
     "output_type": "execute_result"
    }
   ],
   "source": [
    "container.getEquations()"
   ]
  },
  {
   "cell_type": "code",
   "execution_count": 64,
   "metadata": {},
   "outputs": [
    {
     "data": {
      "text/html": [
       "<div>\n",
       "<style scoped>\n",
       "    .dataframe tbody tr th:only-of-type {\n",
       "        vertical-align: middle;\n",
       "    }\n",
       "\n",
       "    .dataframe tbody tr th {\n",
       "        vertical-align: top;\n",
       "    }\n",
       "\n",
       "    .dataframe thead th {\n",
       "        text-align: right;\n",
       "    }\n",
       "</style>\n",
       "<table border=\"1\" class=\"dataframe\">\n",
       "  <thead>\n",
       "    <tr style=\"text-align: right;\">\n",
       "      <th></th>\n",
       "      <th>Solver Status</th>\n",
       "      <th>Model Status</th>\n",
       "      <th>Objective</th>\n",
       "      <th>Num of Equations</th>\n",
       "      <th>Num of Variables</th>\n",
       "      <th>Model Type</th>\n",
       "      <th>Solver</th>\n",
       "      <th>Solver Time</th>\n",
       "    </tr>\n",
       "  </thead>\n",
       "  <tbody>\n",
       "    <tr>\n",
       "      <th>0</th>\n",
       "      <td>Normal</td>\n",
       "      <td>OptimalGlobal</td>\n",
       "      <td>920</td>\n",
       "      <td>7</td>\n",
       "      <td>10</td>\n",
       "      <td>LP</td>\n",
       "      <td>CPLEX</td>\n",
       "      <td>0</td>\n",
       "    </tr>\n",
       "  </tbody>\n",
       "</table>\n",
       "</div>"
      ],
      "text/plain": [
       "  Solver Status   Model Status Objective Num of Equations Num of Variables  \\\n",
       "0        Normal  OptimalGlobal       920                7               10   \n",
       "\n",
       "  Model Type Solver Solver Time  \n",
       "0         LP  CPLEX           0  "
      ]
     },
     "execution_count": 64,
     "metadata": {},
     "output_type": "execute_result"
    }
   ],
   "source": [
    "assignment.solve()"
   ]
  },
  {
   "cell_type": "code",
   "execution_count": 65,
   "metadata": {},
   "outputs": [
    {
     "data": {
      "text/html": [
       "<div>\n",
       "<style scoped>\n",
       "    .dataframe tbody tr th:only-of-type {\n",
       "        vertical-align: middle;\n",
       "    }\n",
       "\n",
       "    .dataframe tbody tr th {\n",
       "        vertical-align: top;\n",
       "    }\n",
       "\n",
       "    .dataframe thead th {\n",
       "        text-align: right;\n",
       "    }\n",
       "</style>\n",
       "<table border=\"1\" class=\"dataframe\">\n",
       "  <thead>\n",
       "    <tr style=\"text-align: right;\">\n",
       "      <th>projects</th>\n",
       "      <th>P1</th>\n",
       "      <th>P2</th>\n",
       "      <th>P3</th>\n",
       "    </tr>\n",
       "    <tr>\n",
       "      <th>contractors</th>\n",
       "      <th></th>\n",
       "      <th></th>\n",
       "      <th></th>\n",
       "    </tr>\n",
       "  </thead>\n",
       "  <tbody>\n",
       "    <tr>\n",
       "      <th>C1</th>\n",
       "      <td>1.0</td>\n",
       "      <td>0.0</td>\n",
       "      <td>0.0</td>\n",
       "    </tr>\n",
       "    <tr>\n",
       "      <th>C2</th>\n",
       "      <td>0.0</td>\n",
       "      <td>0.0</td>\n",
       "      <td>1.0</td>\n",
       "    </tr>\n",
       "    <tr>\n",
       "      <th>C3</th>\n",
       "      <td>0.0</td>\n",
       "      <td>1.0</td>\n",
       "      <td>0.0</td>\n",
       "    </tr>\n",
       "  </tbody>\n",
       "</table>\n",
       "</div>"
      ],
      "text/plain": [
       "projects      P1   P2   P3\n",
       "contractors               \n",
       "C1           1.0  0.0  0.0\n",
       "C2           0.0  0.0  1.0\n",
       "C3           0.0  1.0  0.0"
      ]
     },
     "execution_count": 65,
     "metadata": {},
     "output_type": "execute_result"
    }
   ],
   "source": [
    "x.records.pivot(index='contractors', columns='projects', values='level')"
   ]
  },
  {
   "cell_type": "markdown",
   "metadata": {},
   "source": [
    "## Enunciado 2\n",
    "\n",
    "Enunciado:\n",
    "\n",
    "Un bufete de abogados ha aceptado cinco nuevos casos, cada uno de los cuales puede ser llevado adecuadamente por cualquiera de los cinco asociados más recientes. Debido a la diferencia en experiencia y práctica, los abogados emplearán distintos tiempos en sus casos. Uno de los asociados más experimentados ha estimado las necesidades de tiempo (en horas) como sigue: \n",
    "\n",
    "|           | Caso 1 | Caso 2 | Caso 3 | Caso 4 | Caso 5 |\n",
    "| --------- | ------ | ------ | ------ | ------ | ------ |\n",
    "| Abogado 1 |  145   |  122   |  130   |   95   |  115   |\n",
    "| Abogado 2 |   80   |   63   |   85   |   48   |   78   |\n",
    "| Abogado 3 |  121   |  107   |   93   |   69   |   95   |\n",
    "| Abogado 4 |  118   |   83   |  116   |   80   |  105   |\n",
    "| Abogado 5 |   97   |   75   |  120   |   80   |  111   |\n",
    "\n",
    "Determinar la forma óptima de asignar los casos a los abogados, de manera que \n",
    "cada uno de ellos se dedique a un caso diferente y que el tiempo total de horas \n",
    "empleadas sea mínimo.\n",
    "\n",
    "\n",
    "Respuesta esperada:\n",
    "\n",
    "|           | Caso 1 | Caso 2 | Caso 3 | Caso 4 | Caso 5 |\n",
    "| --------- | ------ | ------ | ------ | ------ | ------ |\n",
    "| Abogado 1 |   0    |   0    |   0    |   0    |   1    |\n",
    "| Abogado 2 |   0    |   0    |   0    |   1    |   0    |\n",
    "| Abogado 3 |   0    |   0    |   1    |   0    |   0    |\n",
    "| Abogado 4 |   0    |   1    |   0    |   0    |   0    |\n",
    "| Abogado 5 |   1    |   0    |   0    |   0    |   1    |\n",
    "\n",
    "\n",
    "Ejercicio sacado de: [https://www.uv.es/~sala/CUADERN.pdf](https://www.uv.es/~sala/CUADERN.pdf). Páginas desde la 131 hasta la 135"
   ]
  },
  {
   "cell_type": "code",
   "execution_count": 66,
   "metadata": {},
   "outputs": [],
   "source": [
    "container = Container()"
   ]
  },
  {
   "cell_type": "code",
   "execution_count": 67,
   "metadata": {},
   "outputs": [
    {
     "data": {
      "text/plain": [
       "(Set(name='lawyers', domain=['*']), Set(name='cases', domain=['*']))"
      ]
     },
     "execution_count": 67,
     "metadata": {},
     "output_type": "execute_result"
    }
   ],
   "source": [
    "lawyers = Set(container=container, name=\"lawyers\", records=[\"A1\", \"A2\", \"A3\", \"A4\", \"A5\"])\n",
    "cases = Set(container=container, name=\"cases\", records=[\"C1\", \"C2\", \"C3\", \"C4\", \"C5\"])\n",
    "\n",
    "lawyers, cases"
   ]
  },
  {
   "cell_type": "code",
   "execution_count": 68,
   "metadata": {},
   "outputs": [
    {
     "data": {
      "text/plain": [
       "Parameter(name='hours', domain=[Set(name='lawyers', domain=['*']), Set(name='cases', domain=['*'])])"
      ]
     },
     "execution_count": 68,
     "metadata": {},
     "output_type": "execute_result"
    }
   ],
   "source": [
    "hours = Parameter(\n",
    "    container=container,\n",
    "    name=\"hours\",\n",
    "    domain=[lawyers, cases],\n",
    "    records=[\n",
    "        [\"A1\", \"C1\", 145], [\"A1\", \"C2\", 122], [\"A1\", \"C3\", 130], [\"A1\", \"C4\", 95], [\"A1\", \"C5\", 115],\n",
    "        [\"A2\", \"C1\", 80], [\"A2\", \"C2\", 63], [\"A2\", \"C3\", 85], [\"A2\", \"C4\", 48], [\"A2\", \"C5\", 78],\n",
    "        [\"A3\", \"C1\", 121], [\"A3\", \"C2\", 107], [\"A3\", \"C3\", 93], [\"A3\", \"C4\", 69], [\"A3\", \"C5\", 95],\n",
    "        [\"A4\", \"C1\", 118], [\"A4\", \"C2\", 83], [\"A4\", \"C3\", 116], [\"A4\", \"C4\", 80], [\"A4\", \"C5\", 105],\n",
    "        [\"A5\", \"C1\", 97], [\"A5\", \"C2\", 75], [\"A5\", \"C3\", 120], [\"A5\", \"C4\", 80], [\"A5\", \"C5\", 111],\n",
    "    ]\n",
    ")\n",
    "\n",
    "hours"
   ]
  },
  {
   "cell_type": "code",
   "execution_count": 69,
   "metadata": {},
   "outputs": [
    {
     "data": {
      "text/plain": [
       "Variable(name='x', domain=[Set(name='lawyers', domain=['*']), Set(name='cases', domain=['*'])], type='positive')"
      ]
     },
     "execution_count": 69,
     "metadata": {},
     "output_type": "execute_result"
    }
   ],
   "source": [
    "x = Variable(\n",
    "    container=container,\n",
    "    name=\"x\",\n",
    "    domain=[lawyers, cases],\n",
    "    type=\"Positive\"\n",
    ")\n",
    "\n",
    "x"
   ]
  },
  {
   "cell_type": "code",
   "execution_count": 70,
   "metadata": {},
   "outputs": [
    {
     "data": {
      "text/plain": [
       "(Equation(name='lawyer_constraint', type='eq', domain=[Set(name='lawyers', domain=['*'])]),\n",
       " Equation(name='case_constraint', type='eq', domain=[Set(name='cases', domain=['*'])]),\n",
       " Sum(domain=[], expression=Expression(left=ImplicitParameter(parent=Parameter(name='hours', domain=[Set(name='lawyers', domain=['*']), Set(name='cases', domain=['*'])]), name='hours', domain=[Set(name='lawyers', domain=['*']), Set(name='cases', domain=['*'])], permutation=None), parent_scalar_domains=[]), data=*, right=ImplicitVariable(parent=Variable(name='x', domain=[Set(name='lawyers', domain=['*']), Set(name='cases', domain=['*'])], type='positive'), name='x', domain=[Set(name='lawyers', domain=['*']), Set(name='cases', domain=['*'])], permutation=None, parent_scalar_domains=[]))))"
      ]
     },
     "execution_count": 70,
     "metadata": {},
     "output_type": "execute_result"
    }
   ],
   "source": [
    "lawyer_constraint = Equation(container=container, name=\"lawyer_constraint\", domain=lawyers)\n",
    "case_constraint = Equation(container=container, name=\"case_constraint\", domain=cases)\n",
    "\n",
    "lawyer_constraint[lawyers] = Sum(cases, x[lawyers, cases]) == 1\n",
    "case_constraint[cases] = Sum(lawyers, x[lawyers, cases]) == 1\n",
    "objective = Sum((lawyers, cases), hours[lawyers, cases] * x[lawyers, cases])\n",
    "\n",
    "lawyer_constraint, case_constraint, objective"
   ]
  },
  {
   "cell_type": "code",
   "execution_count": 71,
   "metadata": {},
   "outputs": [
    {
     "data": {
      "text/plain": [
       "Model(name='assignment', problem='LP', equations=[Equation(name='lawyer_constraint', type='eq', domain=[Set(name='lawyers', domain=['*'])]), Equation(name='case_constraint', type='eq', domain=[Set(name='cases', domain=['*'])]), Equation(name='assignment_objective', type='eq', domain=[])], sense='MIN', objective=Variable(name='assignment_objective_variable', domain=[], type='free'), matches=None, limited_variables=None"
      ]
     },
     "execution_count": 71,
     "metadata": {},
     "output_type": "execute_result"
    }
   ],
   "source": [
    "assignment = Model(\n",
    "    container=container,\n",
    "    name=\"assignment\",\n",
    "    objective=objective,\n",
    "    sense=Sense.MIN,\n",
    "    equations=container.getEquations(),\n",
    "    problem=\"LP\"\n",
    ")\n",
    "\n",
    "assignment"
   ]
  },
  {
   "cell_type": "code",
   "execution_count": 72,
   "metadata": {},
   "outputs": [
    {
     "data": {
      "text/html": [
       "<div>\n",
       "<style scoped>\n",
       "    .dataframe tbody tr th:only-of-type {\n",
       "        vertical-align: middle;\n",
       "    }\n",
       "\n",
       "    .dataframe tbody tr th {\n",
       "        vertical-align: top;\n",
       "    }\n",
       "\n",
       "    .dataframe thead th {\n",
       "        text-align: right;\n",
       "    }\n",
       "</style>\n",
       "<table border=\"1\" class=\"dataframe\">\n",
       "  <thead>\n",
       "    <tr style=\"text-align: right;\">\n",
       "      <th></th>\n",
       "      <th>Solver Status</th>\n",
       "      <th>Model Status</th>\n",
       "      <th>Objective</th>\n",
       "      <th>Num of Equations</th>\n",
       "      <th>Num of Variables</th>\n",
       "      <th>Model Type</th>\n",
       "      <th>Solver</th>\n",
       "      <th>Solver Time</th>\n",
       "    </tr>\n",
       "  </thead>\n",
       "  <tbody>\n",
       "    <tr>\n",
       "      <th>0</th>\n",
       "      <td>Normal</td>\n",
       "      <td>OptimalGlobal</td>\n",
       "      <td>436</td>\n",
       "      <td>11</td>\n",
       "      <td>26</td>\n",
       "      <td>LP</td>\n",
       "      <td>CPLEX</td>\n",
       "      <td>0</td>\n",
       "    </tr>\n",
       "  </tbody>\n",
       "</table>\n",
       "</div>"
      ],
      "text/plain": [
       "  Solver Status   Model Status Objective Num of Equations Num of Variables  \\\n",
       "0        Normal  OptimalGlobal       436               11               26   \n",
       "\n",
       "  Model Type Solver Solver Time  \n",
       "0         LP  CPLEX           0  "
      ]
     },
     "execution_count": 72,
     "metadata": {},
     "output_type": "execute_result"
    }
   ],
   "source": [
    "assignment.solve()"
   ]
  },
  {
   "cell_type": "code",
   "execution_count": 73,
   "metadata": {},
   "outputs": [
    {
     "data": {
      "text/html": [
       "<div>\n",
       "<style scoped>\n",
       "    .dataframe tbody tr th:only-of-type {\n",
       "        vertical-align: middle;\n",
       "    }\n",
       "\n",
       "    .dataframe tbody tr th {\n",
       "        vertical-align: top;\n",
       "    }\n",
       "\n",
       "    .dataframe thead th {\n",
       "        text-align: right;\n",
       "    }\n",
       "</style>\n",
       "<table border=\"1\" class=\"dataframe\">\n",
       "  <thead>\n",
       "    <tr style=\"text-align: right;\">\n",
       "      <th>cases</th>\n",
       "      <th>C1</th>\n",
       "      <th>C2</th>\n",
       "      <th>C3</th>\n",
       "      <th>C4</th>\n",
       "      <th>C5</th>\n",
       "    </tr>\n",
       "    <tr>\n",
       "      <th>lawyers</th>\n",
       "      <th></th>\n",
       "      <th></th>\n",
       "      <th></th>\n",
       "      <th></th>\n",
       "      <th></th>\n",
       "    </tr>\n",
       "  </thead>\n",
       "  <tbody>\n",
       "    <tr>\n",
       "      <th>A1</th>\n",
       "      <td>0.0</td>\n",
       "      <td>0.0</td>\n",
       "      <td>0.0</td>\n",
       "      <td>0.0</td>\n",
       "      <td>1.0</td>\n",
       "    </tr>\n",
       "    <tr>\n",
       "      <th>A2</th>\n",
       "      <td>0.0</td>\n",
       "      <td>0.0</td>\n",
       "      <td>0.0</td>\n",
       "      <td>1.0</td>\n",
       "      <td>0.0</td>\n",
       "    </tr>\n",
       "    <tr>\n",
       "      <th>A3</th>\n",
       "      <td>0.0</td>\n",
       "      <td>0.0</td>\n",
       "      <td>1.0</td>\n",
       "      <td>0.0</td>\n",
       "      <td>0.0</td>\n",
       "    </tr>\n",
       "    <tr>\n",
       "      <th>A4</th>\n",
       "      <td>0.0</td>\n",
       "      <td>1.0</td>\n",
       "      <td>0.0</td>\n",
       "      <td>0.0</td>\n",
       "      <td>0.0</td>\n",
       "    </tr>\n",
       "    <tr>\n",
       "      <th>A5</th>\n",
       "      <td>1.0</td>\n",
       "      <td>0.0</td>\n",
       "      <td>0.0</td>\n",
       "      <td>0.0</td>\n",
       "      <td>0.0</td>\n",
       "    </tr>\n",
       "  </tbody>\n",
       "</table>\n",
       "</div>"
      ],
      "text/plain": [
       "cases     C1   C2   C3   C4   C5\n",
       "lawyers                         \n",
       "A1       0.0  0.0  0.0  0.0  1.0\n",
       "A2       0.0  0.0  0.0  1.0  0.0\n",
       "A3       0.0  0.0  1.0  0.0  0.0\n",
       "A4       0.0  1.0  0.0  0.0  0.0\n",
       "A5       1.0  0.0  0.0  0.0  0.0"
      ]
     },
     "execution_count": 73,
     "metadata": {},
     "output_type": "execute_result"
    }
   ],
   "source": [
    "x.records.pivot(index='lawyers', columns='cases', values='level')"
   ]
  }
 ],
 "metadata": {
  "kernelspec": {
   "display_name": ".venv",
   "language": "python",
   "name": "python3"
  },
  "language_info": {
   "codemirror_mode": {
    "name": "ipython",
    "version": 3
   },
   "file_extension": ".py",
   "mimetype": "text/x-python",
   "name": "python",
   "nbconvert_exporter": "python",
   "pygments_lexer": "ipython3",
   "version": "3.13.0"
  }
 },
 "nbformat": 4,
 "nbformat_minor": 2
}
