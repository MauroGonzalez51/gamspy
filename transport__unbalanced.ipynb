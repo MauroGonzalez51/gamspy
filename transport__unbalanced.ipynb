{
 "cells": [
  {
   "cell_type": "code",
   "execution_count": 16,
   "metadata": {},
   "outputs": [],
   "source": [
    "from gamspy import Container, Set, Parameter, Variable, Equation, Model, Sum, Sense, Options\n",
    "import sys"
   ]
  },
  {
   "cell_type": "markdown",
   "metadata": {},
   "source": [
    "Tenemos: \n",
    "\n",
    "- Fabricas:\n",
    "    - F1: 150 toneladas/mes\n",
    "    - F2: 200 toneladas/mes\n",
    "    - F3: 100 toneladas/mes\n",
    "\n",
    "- Clientes:\n",
    "    - C1: 100 toneladas/mes\n",
    "    - C2: 120 toneladas/mes\n",
    "    - C3: 180 toneladas/mes\n",
    "\n",
    "Total Oferta: **450** toneladas/mes\n",
    "Total Demanda: **400** toneladas/mes\n",
    "\n",
    "Hay un excedente de _50_ toneladas que no pueden ser vendidas este mes.\n",
    "\n",
    "|    | C1      | C2      | C3      |\n",
    "| -- | ------- | ------- | ------- |\n",
    "| F1 | 4       | 5       | 6       |\n",
    "| F2 | 3       | 7       | 4       |\n",
    "| F3 | 6       | 2       | 5       |\n"
   ]
  },
  {
   "cell_type": "code",
   "execution_count": 8,
   "metadata": {},
   "outputs": [],
   "source": [
    "# 1. Crear Contenedor\n",
    "container = Container()"
   ]
  },
  {
   "cell_type": "code",
   "execution_count": 10,
   "metadata": {},
   "outputs": [
    {
     "data": {
      "text/plain": [
       "(Set(name='factories', domain=['*']), Set(name='clients', domain=['*']))"
      ]
     },
     "execution_count": 10,
     "metadata": {},
     "output_type": "execute_result"
    }
   ],
   "source": [
    "# 2. Definir Conjuntos\n",
    "factories = Set(container=container, name='factories',\n",
    "                records=['F1', 'F2', 'F3'])\n",
    "clients = Set(container=container, name='clients', records=['C1', 'C2', 'C3'])\n",
    "\n",
    "factories, clients"
   ]
  },
  {
   "cell_type": "code",
   "execution_count": 11,
   "metadata": {},
   "outputs": [
    {
     "data": {
      "text/plain": [
       "(Parameter(name='offer', domain=[Set(name='factories', domain=['*'])]),\n",
       " Parameter(name='demand', domain=[Set(name='clients', domain=['*'])]),\n",
       " Parameter(name='cost', domain=[Set(name='factories', domain=['*']), Set(name='clients', domain=['*'])]))"
      ]
     },
     "execution_count": 11,
     "metadata": {},
     "output_type": "execute_result"
    }
   ],
   "source": [
    "# 3. Definir Parametros\n",
    "offer = Parameter(container=container, name='offer', domain=[\n",
    "                  factories], records=[['F1', 150], ['F2', 200], ['F3', 100]])\n",
    "\n",
    "demand = Parameter(container=container, name='demand', domain=[\n",
    "                   clients], records=[['C1', 100], ['C2', 120], ['C3', 180]])\n",
    "\n",
    "cost = Parameter(container=container, name='cost', domain=[factories, clients], records=[\n",
    "    ['F1', 'C1', 4], ['F1', 'C2', 5], ['F1', 'C3', 6],\n",
    "    ['F2', 'C1', 3], ['F2', 'C2', 7], ['F2', 'C3', 4],\n",
    "    ['F3', 'C1', 6], ['F3', 'C2', 2], ['F3', 'C3', 5],\n",
    "])\n",
    "\n",
    "offer, demand, cost"
   ]
  },
  {
   "cell_type": "code",
   "execution_count": 12,
   "metadata": {},
   "outputs": [
    {
     "data": {
      "text/plain": [
       "Variable(name='x', domain=[Set(name='factories', domain=['*']), Set(name='clients', domain=['*'])], type='positive')"
      ]
     },
     "execution_count": 12,
     "metadata": {},
     "output_type": "execute_result"
    }
   ],
   "source": [
    "# 4. Definir Variables\n",
    "x = Variable(container=container, name='x', domain=[\n",
    "             factories, clients], type='Positive')\n",
    "\n",
    "x"
   ]
  },
  {
   "cell_type": "code",
   "execution_count": 13,
   "metadata": {},
   "outputs": [
    {
     "data": {
      "text/plain": [
       "(Equation(name='supply_equation', type='eq', domain=[Set(name='factories', domain=['*'])]),\n",
       " Equation(name='demand_equation', type='eq', domain=[Set(name='clients', domain=['*'])]),\n",
       " Sum(domain=[], expression=Expression(left=ImplicitParameter(parent=Parameter(name='cost', domain=[Set(name='factories', domain=['*']), Set(name='clients', domain=['*'])]), name='cost', domain=[Set(name='factories', domain=['*']), Set(name='clients', domain=['*'])], permutation=None), parent_scalar_domains=[]), data=*, right=ImplicitVariable(parent=Variable(name='x', domain=[Set(name='factories', domain=['*']), Set(name='clients', domain=['*'])], type='positive'), name='x', domain=[Set(name='factories', domain=['*']), Set(name='clients', domain=['*'])], permutation=None, parent_scalar_domains=[]))))"
      ]
     },
     "execution_count": 13,
     "metadata": {},
     "output_type": "execute_result"
    }
   ],
   "source": [
    "# 5. Definir Equaciones\n",
    "supply_equation = Equation(\n",
    "    container=container, name='supply_equation', domain=[factories])\n",
    "\n",
    "demand_equation = Equation(\n",
    "    container=container, name='demand_equation', domain=[clients])\n",
    "\n",
    "supply_equation[factories] = Sum(\n",
    "    clients, x[factories, clients]) <= offer[factories]\n",
    "\n",
    "demand_equation[clients] = Sum(\n",
    "    factories, x[factories, clients]) >= demand[clients]\n",
    "\n",
    "objective = Sum((factories, clients),\n",
    "                cost[factories, clients] * x[factories, clients])\n",
    "\n",
    "supply_equation, demand_equation, objective"
   ]
  },
  {
   "cell_type": "code",
   "execution_count": 14,
   "metadata": {},
   "outputs": [
    {
     "data": {
      "text/plain": [
       "Model(name='transport', problem='LP', equations=[Equation(name='supply_equation', type='eq', domain=[Set(name='factories', domain=['*'])]), Equation(name='demand_equation', type='eq', domain=[Set(name='clients', domain=['*'])]), Equation(name='transport_objective', type='eq', domain=[])], sense='MIN', objective=Variable(name='transport_objective_variable', domain=[], type='free'), matches=None, limited_variables=None"
      ]
     },
     "execution_count": 14,
     "metadata": {},
     "output_type": "execute_result"
    }
   ],
   "source": [
    "# 6. Crear el Modelo\n",
    "transport = Model(container=container, name='transport', equations=container.getEquations(\n",
    "), problem='LP', sense=Sense.MIN, objective=objective)\n",
    "\n",
    "transport"
   ]
  },
  {
   "cell_type": "code",
   "execution_count": 17,
   "metadata": {},
   "outputs": [
    {
     "name": "stdout",
     "output_type": "stream",
     "text": [
      "--- Job _32137d6e-4508-4e64-985b-85eb6074d69a.gms Start 04/01/25 12:02:24 49.3.0 7de46a92 LEX-LEG x86 64bit/Linux\n",
      "--- Applying:\n",
      "    /home/arch/dev/python/gamspy/.venv/lib/python3.13/site-packages/gamspy_base/gmsprmun.txt\n",
      "--- GAMS Parameters defined\n",
      "    LP CPLEX\n",
      "    Input /tmp/tmpe3ji1hse/_32137d6e-4508-4e64-985b-85eb6074d69a.gms\n",
      "    Output /tmp/tmpe3ji1hse/_32137d6e-4508-4e64-985b-85eb6074d69a.lst\n",
      "    ScrDir /tmp/tmpe3ji1hse/tmpln67ivcw/\n",
      "    SysDir /home/arch/dev/python/gamspy/.venv/lib/python3.13/site-packages/gamspy_base/\n",
      "    LogOption 3\n",
      "    Trace /tmp/tmpe3ji1hse/_32137d6e-4508-4e64-985b-85eb6074d69a.txt\n",
      "    License /home/arch/dev/python/gamspy/.venv/lib/python3.13/site-packages/gamspy_base/gamslice.txt\n",
      "    OptDir /tmp/tmpe3ji1hse/\n",
      "    LimRow 10\n",
      "    LimCol 10\n",
      "    TraceOpt 3\n",
      "    GDX /tmp/tmpe3ji1hse/_32137d6e-4508-4e64-985b-85eb6074d69aout.gdx\n",
      "    SolPrint 0\n",
      "    PreviousWork 1\n",
      "    gdxSymbols newOrChanged\n",
      "Licensee: GAMS Demo, for EULA and demo limitations see   G250131/0001CB-GEN\n",
      "          https://www.gams.com/latest/docs/UG%5FLicense.html         DC0000\n",
      "          /home/arch/dev/python/gamspy/.venv/lib/python3.13/site-packages/gamspy_base/gamslice.txt\n",
      "          Demo license for demonstration and instructional purposes only\n",
      "System information: 6 physical cores and 15 Gb memory detected\n",
      "--- Starting compilation\n",
      "--- _32137d6e-4508-4e64-985b-85eb6074d69a.gms(68) 3 Mb\n",
      "--- Starting execution: elapsed 0:00:00.000\n",
      "--- Generating LP model transport\n",
      "--- _32137d6e-4508-4e64-985b-85eb6074d69a.gms(87) 4 Mb\n",
      "---   7 rows  10 columns  28 non-zeroes\n",
      "--- Range statistics (absolute non-zero finite values)\n",
      "--- RHS       [min, max] : [ 1.000E+02, 2.000E+02] - Zero values observed as well\n",
      "--- Bound     [min, max] : [        NA,        NA] - Zero values observed as well\n",
      "--- Matrix    [min, max] : [ 1.000E+00, 7.000E+00]\n",
      "--- Executing CPLEX (Solvelink=2): elapsed 0:00:00.007\n",
      "\n",
      "IBM ILOG CPLEX   49.3.0 7de46a92 Mar 18, 2025          LEG x86 64bit/Linux    \n",
      "\n",
      "*** This solver runs with a demo license. No commercial use.\n",
      "--- GMO setup time: 0.00s\n",
      "--- GMO memory 0.50 Mb (peak 0.50 Mb)\n",
      "--- Dictionary memory 0.00 Mb\n",
      "--- Cplex 22.1.2.0 link memory 0.00 Mb (peak 0.00 Mb)\n",
      "--- Starting Cplex\n",
      "\n",
      "Version identifier: 22.1.2.0 | 2024-11-26 | 0edbb82fd\n",
      "CPXPARAM_Advance                                 0\n",
      "CPXPARAM_Simplex_Display                         2\n",
      "CPXPARAM_MIP_Display                             4\n",
      "CPXPARAM_MIP_Pool_Capacity                       0\n",
      "CPXPARAM_MIP_Tolerances_AbsMIPGap                0\n",
      "Tried aggregator 1 time.\n",
      "LP Presolve eliminated 0 rows and 1 columns.\n",
      "Reduced LP has 6 rows, 9 columns, and 18 nonzeros.\n",
      "Presolve time = 0.00 sec. (0.01 ticks)\n",
      "\n",
      "Iteration      Dual Objective            In Variable           Out Variable\n",
      "     1             720.000000               x(F2,C3)demand_equation(C slack\n",
      "     2             960.000000               x(F3,C2)demand_equation(C slack\n",
      "     3            1260.000000               x(F2,C1)demand_equation(C slack\n",
      "     4            1340.000000               x(F1,C1)supply_equation(F slack\n",
      "     5            1400.000000               x(F1,C2)supply_equation(F slack\n",
      "\n",
      "--- LP status (1): optimal.\n",
      "--- Cplex Time: 0.00sec (det. 0.01 ticks)\n",
      "\n",
      "\n",
      "Optimal solution found\n",
      "Objective:         1400.000000\n",
      "\n",
      "--- Reading solution for model transport\n",
      "--- Executing after solve: elapsed 0:00:00.040\n",
      "--- _32137d6e-4508-4e64-985b-85eb6074d69a.gms(149) 4 Mb\n",
      "--- GDX File /tmp/tmpe3ji1hse/_32137d6e-4508-4e64-985b-85eb6074d69aout.gdx\n",
      "*** Status: Normal completion\n",
      "--- Job _32137d6e-4508-4e64-985b-85eb6074d69a.gms Stop 04/01/25 12:02:24 elapsed 0:00:00.040\n"
     ]
    },
    {
     "data": {
      "text/html": [
       "<div>\n",
       "<style scoped>\n",
       "    .dataframe tbody tr th:only-of-type {\n",
       "        vertical-align: middle;\n",
       "    }\n",
       "\n",
       "    .dataframe tbody tr th {\n",
       "        vertical-align: top;\n",
       "    }\n",
       "\n",
       "    .dataframe thead th {\n",
       "        text-align: right;\n",
       "    }\n",
       "</style>\n",
       "<table border=\"1\" class=\"dataframe\">\n",
       "  <thead>\n",
       "    <tr style=\"text-align: right;\">\n",
       "      <th></th>\n",
       "      <th>Solver Status</th>\n",
       "      <th>Model Status</th>\n",
       "      <th>Objective</th>\n",
       "      <th>Num of Equations</th>\n",
       "      <th>Num of Variables</th>\n",
       "      <th>Model Type</th>\n",
       "      <th>Solver</th>\n",
       "      <th>Solver Time</th>\n",
       "    </tr>\n",
       "  </thead>\n",
       "  <tbody>\n",
       "    <tr>\n",
       "      <th>0</th>\n",
       "      <td>Normal</td>\n",
       "      <td>OptimalGlobal</td>\n",
       "      <td>1400</td>\n",
       "      <td>7</td>\n",
       "      <td>10</td>\n",
       "      <td>LP</td>\n",
       "      <td>CPLEX</td>\n",
       "      <td>0.004</td>\n",
       "    </tr>\n",
       "  </tbody>\n",
       "</table>\n",
       "</div>"
      ],
      "text/plain": [
       "  Solver Status   Model Status Objective Num of Equations Num of Variables  \\\n",
       "0        Normal  OptimalGlobal      1400                7               10   \n",
       "\n",
       "  Model Type Solver Solver Time  \n",
       "0         LP  CPLEX       0.004  "
      ]
     },
     "execution_count": 17,
     "metadata": {},
     "output_type": "execute_result"
    }
   ],
   "source": [
    "# 7. Solucionar\n",
    "transport.solve(output=sys.stdout, options=Options(equation_listing_limit=10, variable_listing_limit=10))"
   ]
  },
  {
   "cell_type": "code",
   "execution_count": 18,
   "metadata": {},
   "outputs": [
    {
     "data": {
      "text/html": [
       "<div>\n",
       "<style scoped>\n",
       "    .dataframe tbody tr th:only-of-type {\n",
       "        vertical-align: middle;\n",
       "    }\n",
       "\n",
       "    .dataframe tbody tr th {\n",
       "        vertical-align: top;\n",
       "    }\n",
       "\n",
       "    .dataframe thead th {\n",
       "        text-align: right;\n",
       "    }\n",
       "</style>\n",
       "<table border=\"1\" class=\"dataframe\">\n",
       "  <thead>\n",
       "    <tr style=\"text-align: right;\">\n",
       "      <th>clients</th>\n",
       "      <th>C1</th>\n",
       "      <th>C2</th>\n",
       "      <th>C3</th>\n",
       "    </tr>\n",
       "    <tr>\n",
       "      <th>factories</th>\n",
       "      <th></th>\n",
       "      <th></th>\n",
       "      <th></th>\n",
       "    </tr>\n",
       "  </thead>\n",
       "  <tbody>\n",
       "    <tr>\n",
       "      <th>F1</th>\n",
       "      <td>80.0</td>\n",
       "      <td>20.0</td>\n",
       "      <td>0.0</td>\n",
       "    </tr>\n",
       "    <tr>\n",
       "      <th>F2</th>\n",
       "      <td>20.0</td>\n",
       "      <td>0.0</td>\n",
       "      <td>180.0</td>\n",
       "    </tr>\n",
       "    <tr>\n",
       "      <th>F3</th>\n",
       "      <td>0.0</td>\n",
       "      <td>100.0</td>\n",
       "      <td>0.0</td>\n",
       "    </tr>\n",
       "  </tbody>\n",
       "</table>\n",
       "</div>"
      ],
      "text/plain": [
       "clients      C1     C2     C3\n",
       "factories                    \n",
       "F1         80.0   20.0    0.0\n",
       "F2         20.0    0.0  180.0\n",
       "F3          0.0  100.0    0.0"
      ]
     },
     "execution_count": 18,
     "metadata": {},
     "output_type": "execute_result"
    }
   ],
   "source": [
    "x.records.pivot(index='factories', columns='clients', values='level')"
   ]
  }
 ],
 "metadata": {
  "kernelspec": {
   "display_name": ".venv",
   "language": "python",
   "name": "python3"
  },
  "language_info": {
   "codemirror_mode": {
    "name": "ipython",
    "version": 3
   },
   "file_extension": ".py",
   "mimetype": "text/x-python",
   "name": "python",
   "nbconvert_exporter": "python",
   "pygments_lexer": "ipython3",
   "version": "3.13.2"
  }
 },
 "nbformat": 4,
 "nbformat_minor": 2
}
