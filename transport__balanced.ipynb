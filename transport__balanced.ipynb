{
 "cells": [
  {
   "cell_type": "code",
   "execution_count": 9,
   "metadata": {},
   "outputs": [],
   "source": [
    "from gamspy import Container, Set, Parameter, Variable, Equation, Model, Sum, Sense, Options\n",
    "import sys"
   ]
  },
  {
   "cell_type": "markdown",
   "metadata": {},
   "source": [
    "Tenemos:\n",
    "\n",
    "- 3 fábricas con capacidades de producción: F1 (100 unidades), F2 (150 unidades), F3 (200 unidades)\n",
    "- 4 clientes con demandas: C1 (120 unidades), C2 (80 unidades), C3 (100 unidades), C4 (150 unidades)\n",
    "- Costos de transporte (por unidad) desde cada fábrica a cada cliente:\n",
    "\n",
    "|    | C1      | C2      | C3      | C4      |\n",
    "| -- | ------- | ------- | ------- | ------- |\n",
    "| F1 | 5       | 3       | 6       | 2       |\n",
    "| F2 | 4       | 7       | 5       | 8       |\n",
    "| F3 | 6       | 4       | 3       | 5       |"
   ]
  },
  {
   "cell_type": "code",
   "execution_count": 2,
   "metadata": {},
   "outputs": [],
   "source": [
    "# 1. Crear Contenedor\n",
    "container = Container()"
   ]
  },
  {
   "cell_type": "code",
   "execution_count": 3,
   "metadata": {},
   "outputs": [
    {
     "data": {
      "text/plain": [
       "(Set(name='factories', domain=['*']), Set(name='clients', domain=['*']))"
      ]
     },
     "execution_count": 3,
     "metadata": {},
     "output_type": "execute_result"
    }
   ],
   "source": [
    "# 2. Definir Conjuntos\n",
    "factories = Set(container=container, name=\"factories\", records=[\"F1\", \"F2\", \"F3\"])\n",
    "clients = Set(container=container, name=\"clients\", records=[\"C1\", \"C2\", \"C3\", \"C4\"])\n",
    "\n",
    "factories, clients"
   ]
  },
  {
   "cell_type": "code",
   "execution_count": 4,
   "metadata": {},
   "outputs": [
    {
     "data": {
      "text/plain": [
       "(Parameter(name='offer', domain=[Set(name='factories', domain=['*'])]),\n",
       " Parameter(name='demand', domain=[Set(name='clients', domain=['*'])]),\n",
       " Parameter(name='cost', domain=[Set(name='factories', domain=['*']), Set(name='clients', domain=['*'])]))"
      ]
     },
     "execution_count": 4,
     "metadata": {},
     "output_type": "execute_result"
    }
   ],
   "source": [
    "# 3. Definir Parametros\n",
    "offer = Parameter(container=container, name='offer', domain=[\n",
    "                  factories], records=[['F1', 100], ['F2', 150], ['F3', 200]])\n",
    "\n",
    "demand = Parameter(container=container, name='demand', domain=[clients], records=[\n",
    "                   ['C1', 120], ['C2', 80], ['C3', 100], ['C4', 150]])\n",
    "\n",
    "cost = Parameter(container=container, name='cost', domain=[factories, clients], records=[\n",
    "    ['F1', 'C1', 5], ['F1', 'C2', 3], ['F1', 'C3', 6], ['F1', 'C4', 2],\n",
    "    ['F2', 'C1', 4], ['F2', 'C2', 7], ['F2', 'C3', 5], ['F2', 'C4', 8],\n",
    "    ['F3', 'C1', 6], ['F3', 'C2', 4], ['F3', 'C3', 3], ['F3', 'C4', 5],\n",
    "])\n",
    "\n",
    "offer, demand, cost"
   ]
  },
  {
   "cell_type": "code",
   "execution_count": 5,
   "metadata": {},
   "outputs": [
    {
     "data": {
      "text/plain": [
       "Variable(name='x', domain=[Set(name='factories', domain=['*']), Set(name='clients', domain=['*'])], type='positive')"
      ]
     },
     "execution_count": 5,
     "metadata": {},
     "output_type": "execute_result"
    }
   ],
   "source": [
    "# 4. Definir Variables\n",
    "x = Variable(container=container, name='x', domain=[\n",
    "             factories, clients], type='Positive')\n",
    "\n",
    "x"
   ]
  },
  {
   "cell_type": "code",
   "execution_count": 6,
   "metadata": {},
   "outputs": [
    {
     "data": {
      "text/plain": [
       "(Equation(name='supply_equation', type='eq', domain=[Set(name='factories', domain=['*'])]),\n",
       " Equation(name='demand_equation', type='eq', domain=[Set(name='clients', domain=['*'])]),\n",
       " Sum(domain=[], expression=Expression(left=ImplicitParameter(parent=Parameter(name='cost', domain=[Set(name='factories', domain=['*']), Set(name='clients', domain=['*'])]), name='cost', domain=[Set(name='factories', domain=['*']), Set(name='clients', domain=['*'])], permutation=None), parent_scalar_domains=[]), data=*, right=ImplicitVariable(parent=Variable(name='x', domain=[Set(name='factories', domain=['*']), Set(name='clients', domain=['*'])], type='positive'), name='x', domain=[Set(name='factories', domain=['*']), Set(name='clients', domain=['*'])], permutation=None, parent_scalar_domains=[]))))"
      ]
     },
     "execution_count": 6,
     "metadata": {},
     "output_type": "execute_result"
    }
   ],
   "source": [
    "# 5. Definir Equaciones\n",
    "supply_equation = Equation(container=container, name='supply_equation', domain=factories)\n",
    "demand_equation = Equation(container=container, name='demand_equation', domain=clients)\n",
    "\n",
    "supply_equation[factories] = Sum(clients, x[factories, clients]) <= offer[factories]\n",
    "demand_equation[clients] = Sum(factories, x[factories, clients]) >= demand[clients]\n",
    "objective = Sum((factories, clients), cost[factories, clients] * x[factories, clients])\n",
    "\n",
    "supply_equation, demand_equation, objective"
   ]
  },
  {
   "cell_type": "code",
   "execution_count": 7,
   "metadata": {},
   "outputs": [],
   "source": [
    "# 6. Crear el Modelo\n",
    "transport = Model(container=container, name='transport', equations=container.getEquations(\n",
    "), problem='LP', sense=Sense.MIN, objective=objective)"
   ]
  },
  {
   "cell_type": "code",
   "execution_count": 10,
   "metadata": {},
   "outputs": [
    {
     "name": "stdout",
     "output_type": "stream",
     "text": [
      "--- _868f2047-a5da-41ec-8add-2919448bf915.gms(137) 4 Mb\n",
      "--- Job _868f2047-a5da-41ec-8add-2919448bf915.gms Start 03/31/25 17:57:23 49.3.0 7de46a92 LEX-LEG x86 64bit/Linux\n",
      "--- Applying:\n",
      "    /home/arch/dev/python/gamspy/.venv/lib/python3.13/site-packages/gamspy_base/gmsprmun.txt\n",
      "--- GAMS Parameters defined\n",
      "    LP CPLEX\n",
      "    Input /tmp/tmppsm_e54i/_868f2047-a5da-41ec-8add-2919448bf915.gms\n",
      "    Output /tmp/tmppsm_e54i/_868f2047-a5da-41ec-8add-2919448bf915.lst\n",
      "    ScrDir /tmp/tmppsm_e54i/tmp00a4y3w0/\n",
      "    SysDir /home/arch/dev/python/gamspy/.venv/lib/python3.13/site-packages/gamspy_base/\n",
      "    LogOption 3\n",
      "    Trace /tmp/tmppsm_e54i/_868f2047-a5da-41ec-8add-2919448bf915.txt\n",
      "    License /home/arch/dev/python/gamspy/.venv/lib/python3.13/site-packages/gamspy_base/gamslice.txt\n",
      "    OptDir /tmp/tmppsm_e54i/\n",
      "    LimRow 10\n",
      "    LimCol 10\n",
      "    TraceOpt 3\n",
      "    GDX /tmp/tmppsm_e54i/_868f2047-a5da-41ec-8add-2919448bf915out.gdx\n",
      "    SolPrint 0\n",
      "    PreviousWork 1\n",
      "    gdxSymbols newOrChanged\n",
      "Licensee: GAMS Demo, for EULA and demo limitations see   G250131/0001CB-GEN\n",
      "          https://www.gams.com/latest/docs/UG%5FLicense.html         DC0000\n",
      "          /home/arch/dev/python/gamspy/.venv/lib/python3.13/site-packages/gamspy_base/gamslice.txt\n",
      "          Demo license for demonstration and instructional purposes only\n",
      "System information: 6 physical cores and 15 Gb memory detected\n",
      "--- Starting compilation\n",
      "--- _868f2047-a5da-41ec-8add-2919448bf915.gms(1) 4 Mb\n",
      "--- _868f2047-a5da-41ec-8add-2919448bf915.gms(68) 4 Mb\n",
      "--- Starting execution: elapsed 0:00:00.001\n",
      "--- Generating LP model transport\n",
      "--- _868f2047-a5da-41ec-8add-2919448bf915.gms(143) 4 Mb\n",
      "---   8 rows  13 columns  37 non-zeroes\n",
      "--- Range statistics (absolute non-zero finite values)\n",
      "--- RHS       [min, max] : [ 8.000E+01, 2.000E+02] - Zero values observed as well\n",
      "--- Bound     [min, max] : [        NA,        NA] - Zero values observed as well\n",
      "--- Matrix    [min, max] : [ 1.000E+00, 8.000E+00]\n",
      "--- Executing CPLEX (Solvelink=2): elapsed 0:00:00.001\n",
      "\n",
      "IBM ILOG CPLEX   49.3.0 7de46a92 Mar 18, 2025          LEG x86 64bit/Linux    \n",
      "\n",
      "*** This solver runs with a demo license. No commercial use.\n",
      "--- GMO setup time: 0.00s\n",
      "--- GMO memory 0.50 Mb (peak 0.50 Mb)\n",
      "--- Dictionary memory 0.00 Mb\n",
      "--- Cplex 22.1.2.0 link memory 0.00 Mb (peak 0.00 Mb)\n",
      "--- Starting Cplex\n",
      "\n",
      "Version identifier: 22.1.2.0 | 2024-11-26 | 0edbb82fd\n",
      "CPXPARAM_Advance                                 2\n",
      "CPXPARAM_Simplex_Display                         2\n",
      "CPXPARAM_MIP_Display                             4\n",
      "CPXPARAM_MIP_Pool_Capacity                       0\n",
      "CPXPARAM_MIP_Tolerances_AbsMIPGap                0\n",
      "Tried aggregator 1 time.\n",
      "LP Presolve eliminated 0 rows and 1 columns.\n",
      "Reduced LP has 7 rows, 12 columns, and 24 nonzeros.\n",
      "Presolve time = 0.00 sec. (0.01 ticks)\n",
      "Using devex.\n",
      "\n",
      "Iteration           Objective            In Variable           Out Variable\n",
      "     1            1610.000000supply_equation(F slackdemand_equation(C slack\n",
      "\n",
      "--- LP status (1): optimal.\n",
      "--- Cplex Time: 0.00sec (det. 0.02 ticks)\n",
      "\n",
      "\n",
      "Optimal solution found\n",
      "Objective:         1610.000000\n",
      "\n",
      "--- Reading solution for model transport\n",
      "--- Executing after solve: elapsed 0:00:00.012\n",
      "--- _868f2047-a5da-41ec-8add-2919448bf915.gms(205) 4 Mb\n",
      "--- GDX File /tmp/tmppsm_e54i/_868f2047-a5da-41ec-8add-2919448bf915out.gdx\n",
      "*** Status: Normal completion\n",
      "--- Job _868f2047-a5da-41ec-8add-2919448bf915.gms Stop 03/31/25 17:57:23 elapsed 0:00:00.012\n"
     ]
    },
    {
     "data": {
      "text/html": [
       "<div>\n",
       "<style scoped>\n",
       "    .dataframe tbody tr th:only-of-type {\n",
       "        vertical-align: middle;\n",
       "    }\n",
       "\n",
       "    .dataframe tbody tr th {\n",
       "        vertical-align: top;\n",
       "    }\n",
       "\n",
       "    .dataframe thead th {\n",
       "        text-align: right;\n",
       "    }\n",
       "</style>\n",
       "<table border=\"1\" class=\"dataframe\">\n",
       "  <thead>\n",
       "    <tr style=\"text-align: right;\">\n",
       "      <th></th>\n",
       "      <th>Solver Status</th>\n",
       "      <th>Model Status</th>\n",
       "      <th>Objective</th>\n",
       "      <th>Num of Equations</th>\n",
       "      <th>Num of Variables</th>\n",
       "      <th>Model Type</th>\n",
       "      <th>Solver</th>\n",
       "      <th>Solver Time</th>\n",
       "    </tr>\n",
       "  </thead>\n",
       "  <tbody>\n",
       "    <tr>\n",
       "      <th>0</th>\n",
       "      <td>Normal</td>\n",
       "      <td>OptimalGlobal</td>\n",
       "      <td>1610</td>\n",
       "      <td>8</td>\n",
       "      <td>13</td>\n",
       "      <td>LP</td>\n",
       "      <td>CPLEX</td>\n",
       "      <td>0.001</td>\n",
       "    </tr>\n",
       "  </tbody>\n",
       "</table>\n",
       "</div>"
      ],
      "text/plain": [
       "  Solver Status   Model Status Objective Num of Equations Num of Variables  \\\n",
       "0        Normal  OptimalGlobal      1610                8               13   \n",
       "\n",
       "  Model Type Solver Solver Time  \n",
       "0         LP  CPLEX       0.001  "
      ]
     },
     "execution_count": 10,
     "metadata": {},
     "output_type": "execute_result"
    }
   ],
   "source": [
    "# 7. Solucionar\n",
    "transport.solve(output=sys.stdout, options=Options(equation_listing_limit=10, variable_listing_limit=10))"
   ]
  },
  {
   "cell_type": "code",
   "execution_count": 11,
   "metadata": {},
   "outputs": [
    {
     "data": {
      "text/plain": [
       "'supply_equation(F1)..  x(F1,C1) + x(F1,C2) + x(F1,C3) + x(F1,C4) =L= 100 ; (LHS = 100)\\nsupply_equation(F2)..  x(F2,C1) + x(F2,C2) + x(F2,C3) + x(F2,C4) =L= 150 ; (LHS = 150)\\nsupply_equation(F3)..  x(F3,C1) + x(F3,C2) + x(F3,C3) + x(F3,C4) =L= 200 ; (LHS = 200)\\ndemand_equation(C1)..  x(F1,C1) + x(F2,C1) + x(F3,C1) =G= 120 ; (LHS = 120)\\ndemand_equation(C2)..  x(F1,C2) + x(F2,C2) + x(F3,C2) =G= 80 ; (LHS = 80)\\ndemand_equation(C3)..  x(F1,C3) + x(F2,C3) + x(F3,C3) =G= 100 ; (LHS = 100)\\ndemand_equation(C4)..  x(F1,C4) + x(F2,C4) + x(F3,C4) =G= 150 ; (LHS = 150)\\ntransport_objective..  5*x(F1,C1) + 3*x(F1,C2) + 6*x(F1,C3) + 2*x(F1,C4) + 4*x(F2,C1) + 7*x(F2,C2) + 5*x(F2,C3) + 8*x(F2,C4) + 6*x(F3,C1) + 4*x(F3,C2) + 3*x(F3,C3) + 5*x(F3,C4) - transport_objective_variable =E= 0 ; (LHS = 0)'"
      ]
     },
     "execution_count": 11,
     "metadata": {},
     "output_type": "execute_result"
    }
   ],
   "source": [
    "transport.getEquationListing()"
   ]
  },
  {
   "cell_type": "code",
   "execution_count": 12,
   "metadata": {},
   "outputs": [
    {
     "data": {
      "text/plain": [
       "'x(F1,C1)\\n                (.LO, .L, .UP, .M = 0, 0, +INF, 6)\\n        1       supply_equation(F1)\\n        1       demand_equation(C1)\\n        5       transport_objective\\n\\nx(F1,C2)\\n                (.LO, .L, .UP, .M = 0, 0, +INF, 2)\\n        1       supply_equation(F1)\\n        1       demand_equation(C2)\\n        3       transport_objective\\n\\nx(F1,C3)\\n                (.LO, .L, .UP, .M = 0, 0, +INF, 6)\\n        1       supply_equation(F1)\\n        1       demand_equation(C3)\\n        6       transport_objective\\n\\nx(F1,C4)\\n                (.LO, .L, .UP, .M = 0, 100, +INF, 0)\\n        1       supply_equation(F1)\\n        1       demand_equation(C4)\\n        2       transport_objective\\n\\nx(F2,C1)\\n                (.LO, .L, .UP, .M = 0, 120, +INF, 0)\\n        1       supply_equation(F2)\\n        1       demand_equation(C1)\\n        4       transport_objective\\n\\nx(F2,C2)\\n                (.LO, .L, .UP, .M = 0, 0, +INF, 1)\\n        1       supply_equation(F2)\\n        1       demand_equation(C2)\\n        7       transport_objective\\n\\nx(F2,C3)\\n                (.LO, .L, .UP, .M = 0, 30, +INF, 0)\\n        1       supply_equation(F2)\\n        1       demand_equation(C3)\\n        5       transport_objective\\n\\nx(F2,C4)\\n                (.LO, .L, .UP, .M = 0, 0, +INF, 1)\\n        1       supply_equation(F2)\\n        1       demand_equation(C4)\\n        8       transport_objective\\n\\nx(F3,C1)\\n                (.LO, .L, .UP, .M = 0, 0, +INF, 4)\\n        1       supply_equation(F3)\\n        1       demand_equation(C1)\\n        6       transport_objective\\n\\nx(F3,C2)\\n                (.LO, .L, .UP, .M = 0, 80, +INF, 0)\\n        1       supply_equation(F3)\\n        1       demand_equation(C2)\\n        4       transport_objective\\n\\ntransport_objective_variable\\n                (.LO, .L, .UP, .M = -INF, 1610, +INF, 0)\\n       -1       transport_objective\\n'"
      ]
     },
     "execution_count": 12,
     "metadata": {},
     "output_type": "execute_result"
    }
   ],
   "source": [
    "transport.getVariableListing()"
   ]
  },
  {
   "cell_type": "code",
   "execution_count": 13,
   "metadata": {},
   "outputs": [
    {
     "data": {
      "text/plain": [
       "1610.0"
      ]
     },
     "execution_count": 13,
     "metadata": {},
     "output_type": "execute_result"
    }
   ],
   "source": [
    "transport.objective_value"
   ]
  },
  {
   "cell_type": "code",
   "execution_count": 14,
   "metadata": {},
   "outputs": [
    {
     "name": "stderr",
     "output_type": "stream",
     "text": [
      "[CONVERTER - INFO] LaTeX (.tex) file has been generated under latex/transport.tex\n"
     ]
    },
    {
     "name": "stdout",
     "output_type": "stream",
     "text": [
      "pdfTeX 3.141592653-2.6-1.40.27 (TeX Live 2025/Arch Linux)\n",
      "kpathsea version 6.4.1\n",
      "Copyright 2025 Han The Thanh (pdfTeX) et al.\n",
      "There is NO warranty.  Redistribution of this software is\n",
      "covered by the terms of both the pdfTeX copyright and\n",
      "the Lesser GNU General Public License.\n",
      "For more information about these matters, see the file\n",
      "named COPYING and the pdfTeX source.\n",
      "Primary author of pdfTeX: Han The Thanh (pdfTeX) et al.\n",
      "Compiled with libpng 1.6.47; using libpng 1.6.47\n",
      "Compiled with zlib 1.3.1; using zlib 1.3.1\n",
      "Compiled with xpdf version 4.04\n"
     ]
    }
   ],
   "source": [
    "transport.toLatex(path='latex', generate_pdf=True)"
   ]
  },
  {
   "cell_type": "code",
   "execution_count": 15,
   "metadata": {},
   "outputs": [
    {
     "name": "stderr",
     "output_type": "stream",
     "text": [
      "[CONVERTER - INFO] GAMS (.gms) file has been generated under gams/transport.gms\n"
     ]
    }
   ],
   "source": [
    "transport.toGams(path='gams')"
   ]
  },
  {
   "cell_type": "code",
   "execution_count": 22,
   "metadata": {},
   "outputs": [
    {
     "data": {
      "text/html": [
       "<div>\n",
       "<style scoped>\n",
       "    .dataframe tbody tr th:only-of-type {\n",
       "        vertical-align: middle;\n",
       "    }\n",
       "\n",
       "    .dataframe tbody tr th {\n",
       "        vertical-align: top;\n",
       "    }\n",
       "\n",
       "    .dataframe thead th {\n",
       "        text-align: right;\n",
       "    }\n",
       "</style>\n",
       "<table border=\"1\" class=\"dataframe\">\n",
       "  <thead>\n",
       "    <tr style=\"text-align: right;\">\n",
       "      <th>clients</th>\n",
       "      <th>C1</th>\n",
       "      <th>C2</th>\n",
       "      <th>C3</th>\n",
       "      <th>C4</th>\n",
       "    </tr>\n",
       "    <tr>\n",
       "      <th>factories</th>\n",
       "      <th></th>\n",
       "      <th></th>\n",
       "      <th></th>\n",
       "      <th></th>\n",
       "    </tr>\n",
       "  </thead>\n",
       "  <tbody>\n",
       "    <tr>\n",
       "      <th>F1</th>\n",
       "      <td>0.0</td>\n",
       "      <td>0.0</td>\n",
       "      <td>0.0</td>\n",
       "      <td>100.0</td>\n",
       "    </tr>\n",
       "    <tr>\n",
       "      <th>F2</th>\n",
       "      <td>120.0</td>\n",
       "      <td>0.0</td>\n",
       "      <td>30.0</td>\n",
       "      <td>0.0</td>\n",
       "    </tr>\n",
       "    <tr>\n",
       "      <th>F3</th>\n",
       "      <td>0.0</td>\n",
       "      <td>80.0</td>\n",
       "      <td>70.0</td>\n",
       "      <td>50.0</td>\n",
       "    </tr>\n",
       "  </tbody>\n",
       "</table>\n",
       "</div>"
      ],
      "text/plain": [
       "clients       C1    C2    C3     C4\n",
       "factories                          \n",
       "F1           0.0   0.0   0.0  100.0\n",
       "F2         120.0   0.0  30.0    0.0\n",
       "F3           0.0  80.0  70.0   50.0"
      ]
     },
     "execution_count": 22,
     "metadata": {},
     "output_type": "execute_result"
    }
   ],
   "source": [
    "x.records.pivot(index='factories', columns='clients', values='level')"
   ]
  }
 ],
 "metadata": {
  "kernelspec": {
   "display_name": ".venv",
   "language": "python",
   "name": "python3"
  },
  "language_info": {
   "codemirror_mode": {
    "name": "ipython",
    "version": 3
   },
   "file_extension": ".py",
   "mimetype": "text/x-python",
   "name": "python",
   "nbconvert_exporter": "python",
   "pygments_lexer": "ipython3",
   "version": "3.13.2"
  }
 },
 "nbformat": 4,
 "nbformat_minor": 2
}
